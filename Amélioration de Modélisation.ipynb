{
 "cells": [
  {
   "cell_type": "markdown",
   "metadata": {
    "id": "4lzSl5ZXu1aJ"
   },
   "source": [
    "D'après une étude VIF, il faudrait supprimer les colonnes ZipCode, Latitude, Longitude"
   ]
  },
  {
   "cell_type": "code",
   "execution_count": 1,
   "metadata": {
    "id": "B4IyoLphu1aa"
   },
   "outputs": [],
   "source": [
    "import pandas as pd\n",
    "import seaborn as sns\n",
    "import matplotlib.pyplot as plt\n",
    "import numpy as np\n",
    "from datetime import datetime\n",
    "\n",
    "from sklearn.impute import KNNImputer\n",
    "from sklearn.preprocessing import StandardScaler\n",
    "from sklearn.preprocessing import RobustScaler\n",
    "from sklearn.preprocessing import MinMaxScaler\n",
    "from sklearn.preprocessing import OneHotEncoder\n",
    "\n",
    "from sklearn import model_selection\n",
    "\n",
    "import math\n",
    "# Evaluate\n",
    "from sklearn.metrics import r2_score,max_error,mean_absolute_error, mean_squared_error, mean_absolute_percentage_error\n",
    "\n",
    "from sklearn.ensemble import RandomForestRegressor\n",
    "\n",
    "from sklearn.model_selection import GridSearchCV"
   ]
  },
  {
   "cell_type": "markdown",
   "metadata": {},
   "source": [
    "# Amélioration que nous allons apporter :"
   ]
  },
  {
   "cell_type": "markdown",
   "metadata": {},
   "source": [
    "Le modèle précédent n'était composé de seulement un seul jeu de données, celui des relevés de 2016.\n",
    "Nous avons à notre disposition de nouveaux jeux de données : \n",
    "- 2015, 2016, 2017, 2019, 2020\n",
    "\n",
    "Nous allons procéder au même preprocessing que pour 2016, et rajouter une nouvelle colonne (Année) qui ne sera appliqué seulement pour l'application, ajoutant ainsi une **fonctionnalité** (Visulaisation donnée par année)"
   ]
  },
  {
   "cell_type": "code",
   "execution_count": 2,
   "metadata": {},
   "outputs": [],
   "source": [
    "df_2015 = pd.read_csv(\"data/2015_Building_Energy_Benchmarking.csv\")\n",
    "df_2017 = pd.read_csv(\"data/2017_Building_Energy_Benchmarking.csv\")\n",
    "df_2019 = pd.read_csv(\"data/2019_Building_Energy_Benchmarking.csv\")"
   ]
  },
  {
   "cell_type": "markdown",
   "metadata": {},
   "source": [
    "### 2015"
   ]
  },
  {
   "cell_type": "code",
   "execution_count": 3,
   "metadata": {},
   "outputs": [
    {
     "name": "stdout",
     "output_type": "stream",
     "text": [
      "(1610, 11)\n",
      "Il y a actuellement BuildingType             0\n",
      "PrimaryPropertyType      0\n",
      "CouncilDistrictCode      0\n",
      "Neighborhood             0\n",
      "NumberofFloors           8\n",
      "PropertyGFATotal         0\n",
      "PropertyGFAParking       0\n",
      "ENERGYSTARScore        518\n",
      "SteamUse(kBtu)           0\n",
      "TotalGHGEmissions        0\n",
      "BuildingAge              0\n",
      "dtype: int64 valeurs NaN dans le DataFrame entier\n"
     ]
    }
   ],
   "source": [
    "# Outlier cleaned\n",
    "data_cleaned = df_2015[df_2015['Outlier'].isnull()]\n",
    "\n",
    "# Drop features qui me semble inutile\n",
    "data_cleaned  = data_cleaned.drop([\"ListOfAllPropertyUseTypes\",\"Location\",\"OtherFuelUse(kBtu)\",\"OSEBuildingID\",\"TaxParcelIdentificationNumber\",\"PropertyName\" ,'Outlier', 'YearsENERGYSTARCertified', \"Comment\", \"GHGEmissionsIntensity(kgCO2e/ft2)\", \"SiteEnergyUse(kBtu)\",\"DefaultData\", \"ComplianceStatus\" ], axis=1)\n",
    "\n",
    "# Drop des lignes \"Multifamily\"\n",
    "data_cleaned = data_cleaned[~data_cleaned['BuildingType'].str.contains(\"Multifamily\", na=False) & ~data_cleaned['PrimaryPropertyType'].str.contains(\"Multifamily\", na=False)]\n",
    "\n",
    "# Drop des colonnes doubles avec unités différentes\n",
    "data_cleaned.drop(['Electricity(kWh)', 'NaturalGas(therms)'], axis=1, inplace=True)\n",
    "\n",
    "# Drop des features météorologiques: \n",
    "data_cleaned.drop(['SiteEUIWN(kBtu/sf)', 'SourceEUIWN(kBtu/sf)', 'SiteEnergyUseWN(kBtu)'], axis=1, inplace=True)  \n",
    "\n",
    "# Création de l'âge des bâtiments:\n",
    "data_cleaned['BuildingAge'] = data_cleaned['DataYear'] - data_cleaned['YearBuilt']\n",
    "data_cleaned.drop(['YearBuilt', \"DataYear\"], axis=1, inplace=True)\n",
    "\n",
    "# Drop des features fortement corrélées:\n",
    "data_cleaned.drop(['LargestPropertyUseType', 'LargestPropertyUseTypeGFA', 'SecondLargestPropertyUseType', 'SecondLargestPropertyUseTypeGFA',\n",
    "       'ThirdLargestPropertyUseType', 'ThirdLargestPropertyUseTypeGFA'], axis = 1, inplace=True)\n",
    "data_cleaned.drop(['PropertyGFABuilding(s)', 'SourceEUI(kBtu/sf)', 'Electricity(kBtu)','SiteEUI(kBtu/sf)','NaturalGas(kBtu)', \"NumberofBuildings\"], axis = 1, inplace=True)\n",
    "\n",
    "# Suppression des lignes =0 ou <0\n",
    "data_cleaned = data_cleaned[~(data_cleaned['GHGEmissions(MetricTonsCO2e)']<=0)]\n",
    "\n",
    "# Drop nan de la target\n",
    "data_cleaned = data_cleaned[~(data_cleaned['GHGEmissions(MetricTonsCO2e)'].isnull())]\n",
    "\n",
    "# drop de la seule data dans cette catégorie\n",
    "data_cleaned = data_cleaned[~(data_cleaned.BuildingType==\"Nonresidential WA\")]\n",
    "\n",
    "# Correction des quartiers en double\n",
    "data_cleaned['Neighborhood'].replace('DELRIDGE NEIGHBORHOODS', 'DELRIDGE', inplace=True)\n",
    "data_cleaned['Neighborhood']=data_cleaned['Neighborhood'].map(lambda x: x.upper())\n",
    "\n",
    "# Rename en TOTALGHGEmissions\n",
    "data_cleaned = data_cleaned.rename(columns={'GHGEmissions(MetricTonsCO2e)':'TotalGHGEmissions'})\n",
    "\n",
    "print(data_cleaned.shape)\n",
    "\n",
    "df_2015_cleaned = data_cleaned\n",
    "print(f'Il y a actuellement {df_2015_cleaned.isna().sum()} valeurs NaN dans le DataFrame entier')"
   ]
  },
  {
   "cell_type": "code",
   "execution_count": 4,
   "metadata": {},
   "outputs": [
    {
     "data": {
      "text/plain": [
       "Index(['BuildingType', 'PrimaryPropertyType', 'CouncilDistrictCode',\n",
       "       'Neighborhood', 'NumberofFloors', 'PropertyGFATotal',\n",
       "       'PropertyGFAParking', 'ENERGYSTARScore', 'SteamUse(kBtu)',\n",
       "       'TotalGHGEmissions', 'BuildingAge'],\n",
       "      dtype='object')"
      ]
     },
     "execution_count": 4,
     "metadata": {},
     "output_type": "execute_result"
    }
   ],
   "source": [
    "data_cleaned.columns"
   ]
  },
  {
   "cell_type": "markdown",
   "metadata": {},
   "source": [
    "### 2017"
   ]
  },
  {
   "cell_type": "code",
   "execution_count": 5,
   "metadata": {},
   "outputs": [
    {
     "name": "stdout",
     "output_type": "stream",
     "text": [
      "(1641, 11)\n",
      "Il y a actuellement BuildingType              0\n",
      "PrimaryPropertyType       0\n",
      "CouncilDistrictCode       0\n",
      "Neighborhood              0\n",
      "NumberofFloors            7\n",
      "PropertyGFATotal          0\n",
      "PropertyGFAParking       66\n",
      "ENERGYSTARScore         574\n",
      "SteamUse(kBtu)         1520\n",
      "TotalGHGEmissions         0\n",
      "BuildingAge               1\n",
      "dtype: int64 valeurs NaN dans le DataFrame entier\n"
     ]
    }
   ],
   "source": [
    "# Outlier cleaned\n",
    "data_cleaned = df_2017[df_2017['Outlier'].isnull()]\n",
    "\n",
    "# Drop features qui me semble inutile\n",
    "data_cleaned  = data_cleaned.drop([\"ListOfAllPropertyUseTypes\",\"Address\",\"City\",\"OSEBuildingID\",\"TaxParcelIdentificationNumber\",\"PropertyName\" ,\"State\",'Outlier', 'YearsENERGYSTARCertified', \"GHGEmissionsIntensity\", \"SiteEnergyUse(kBtu)\",\"DefaultData\", \"ComplianceStatus\" ], axis=1)\n",
    "\n",
    "# Drop des lignes \"Multifamily\" dans deux colonnes (BuildingType et Multifamily)\n",
    "data_cleaned = data_cleaned[~data_cleaned['BuildingType'].str.contains(\"Multifamily\", na=False) & ~data_cleaned['PrimaryPropertyType'].str.contains(\"Multifamily\", na=False)]\n",
    "\n",
    "# Drop des colonnes doubles avec unités différentes\n",
    "data_cleaned.drop(['Electricity(kWh)', 'NaturalGas(therms)'], axis=1, inplace=True)\n",
    "\n",
    "# Drop des features météorologiques: \n",
    "data_cleaned.drop(['SiteEUIWN(kBtu/sf)', 'SourceEUIWN(kBtu/sf)', 'SiteEnergyUseWN(kBtu)'], axis=1, inplace=True)\n",
    "\n",
    "# Création de l'âge des bâtiments:\n",
    "data_cleaned['BuildingAge'] = data_cleaned['DataYear'] - data_cleaned['YearBuilt']\n",
    "data_cleaned.drop(['YearBuilt', \"DataYear\"], axis=1, inplace=True)\n",
    "\n",
    "# Drop des features fortement corrélées:\n",
    "data_cleaned.drop(['LargestPropertyUseType', 'LargestPropertyUseTypeGFA', 'SecondLargestPropertyUseType', 'SecondLargestPropertyUseTypeGFA',\n",
    "       'ThirdLargestPropertyUseType', 'ThirdLargestPropertyUseTypeGFA'], axis = 1, inplace=True)\n",
    "data_cleaned.drop(['PropertyGFABuilding(s)', 'SourceEUI(kBtu/sf)', 'Electricity(kBtu)','SiteEUI(kBtu/sf)','NaturalGas(kBtu)', \"NumberofBuildings\"], axis = 1, inplace=True)\n",
    "\n",
    "# Suppression des lignes =0 ou <0\n",
    "data_cleaned = data_cleaned[~(data_cleaned.TotalGHGEmissions<=0)]\n",
    "\n",
    "# Drop nan de la target\n",
    "data_cleaned = data_cleaned[~(data_cleaned.TotalGHGEmissions.isnull())]\n",
    "\n",
    "# drop de la seule data dans cette catégorie\n",
    "data_cleaned = data_cleaned[~(data_cleaned.BuildingType==\"Nonresidential WA\")]\n",
    "\n",
    "# Correction des quartiers en double\n",
    "data_cleaned = data_cleaned.dropna(subset=['Neighborhood'])\n",
    "data_cleaned['Neighborhood'].replace('DELRIDGE NEIGHBORHOODS', 'DELRIDGE', inplace=True)\n",
    "data_cleaned['Neighborhood']=data_cleaned['Neighborhood'].map(lambda x: x.upper())\n",
    "\n",
    "# Suppression de \"ZipCode\", \"Latitude\", \"Longitude\"\n",
    "data_cleaned.drop(['ZipCode','Latitude', 'Longitude'], axis=1, inplace=True)\n",
    "\n",
    "print(data_cleaned.shape)\n",
    "\n",
    "df_2017_cleaned = data_cleaned\n",
    "print(f'Il y a actuellement {df_2017_cleaned.isna().sum()} valeurs NaN dans le DataFrame entier')"
   ]
  },
  {
   "cell_type": "markdown",
   "metadata": {},
   "source": [
    "### 2019"
   ]
  },
  {
   "cell_type": "code",
   "execution_count": 6,
   "metadata": {},
   "outputs": [
    {
     "name": "stdout",
     "output_type": "stream",
     "text": [
      "(1647, 11)\n",
      "Il y a actuellement BuildingType             0\n",
      "PrimaryPropertyType      0\n",
      "CouncilDistrictCode      4\n",
      "Neighborhood             0\n",
      "NumberofFloors           0\n",
      "PropertyGFATotal         0\n",
      "PropertyGFAParking       0\n",
      "ENERGYSTARScore        587\n",
      "SteamUse(kBtu)           0\n",
      "TotalGHGEmissions        0\n",
      "BuildingAge              0\n",
      "dtype: int64 valeurs NaN dans le DataFrame entier\n"
     ]
    }
   ],
   "source": [
    "# Drop features qui me semble inutile\n",
    "data_cleaned  = df_2019.drop([\"Address\",\"City\",\"OSEBuildingID\",\"TaxParcelIdentificationNumber\", \"State\", \"GHGEmissionsIntensity\", \"SiteEnergyUse(kBtu)\", \"ComplianceStatus\" ], axis=1)\n",
    "\n",
    "# Drop des lignes \"Multifamily\"\n",
    "data_cleaned = data_cleaned[~data_cleaned['BuildingType'].str.contains(\"Multifamily\", na=False) & ~data_cleaned['PrimaryPropertyType'].str.contains(\"Multifamily\", na=False)]\n",
    "\n",
    "# Drop des colonnes doubles avec unités différentes\n",
    "data_cleaned.drop(['Electricity(kWh)', 'NaturalGas(therms)'], axis=1, inplace=True)\n",
    "\n",
    "# Drop des features météorologiques: \n",
    "data_cleaned.drop(['SiteEUIWN(kBtu/sf)', 'SourceEUIWN(kBtu/sf)', 'SiteEnergyUseWN(kBtu)'], axis=1, inplace=True)\n",
    "\n",
    "# Création de l'âge des bâtiments:\n",
    "data_cleaned['BuildingAge'] = data_cleaned['DataYear'] - data_cleaned['YearBuilt']\n",
    "data_cleaned.drop(['YearBuilt', \"DataYear\"], axis=1, inplace=True)\n",
    "\n",
    "# Drop des features fortement corrélées:\n",
    "data_cleaned.drop(['LargestPropertyUseType', 'LargestPropertyUseTypeGFA', 'SecondLargestPropertyUseType', 'SecondLargestPropertyUseTypeGFA',\n",
    "       'ThirdLargestPropertyUseType', 'ThirdLargestPropertyUseTypeGFA'], axis = 1, inplace=True)\n",
    "data_cleaned.drop(['PropertyGFABuilding(s)', 'SourceEUI(kBtu/sf)', 'Electricity(kBtu)','SiteEUI(kBtu/sf)','NaturalGas(kBtu)'], axis = 1, inplace=True)\n",
    "\n",
    "# Suppression des lignes =0 ou <0\n",
    "data_cleaned = data_cleaned[~(data_cleaned.TotalGHGEmissions<=0)]\n",
    "\n",
    "# Drop nan de la target\n",
    "data_cleaned = data_cleaned[~(data_cleaned.TotalGHGEmissions.isnull())]\n",
    "\n",
    "# drop de la seule data dans cette catégorie\n",
    "data_cleaned = data_cleaned[~(data_cleaned.BuildingType==\"Nonresidential WA\")]\n",
    "\n",
    "# Correction des quartiers en double\n",
    "data_cleaned = data_cleaned.dropna(subset=['Neighborhood'])\n",
    "data_cleaned['Neighborhood'].replace('DELRIDGE NEIGHBORHOODS', 'DELRIDGE', inplace=True)\n",
    "data_cleaned['Neighborhood']=data_cleaned['Neighborhood'].map(lambda x: x.upper())\n",
    "\n",
    "# Suppression de \"ZipCode\", \"Latitude\", \"Longitude\"\n",
    "data_cleaned.drop(['ZipCode','Latitude', 'Longitude', \"BuildingName\", \"EPAPropertyType\", \"ComplianceIssue\"], axis=1, inplace=True)\n",
    "\n",
    "df_cols = df_2017_cleaned.columns\n",
    "\n",
    "data_cleaned = data_cleaned[df_cols]\n",
    "\n",
    "print(data_cleaned.shape)\n",
    "\n",
    "df_2019_cleaned = data_cleaned\n",
    "print(f'Il y a actuellement {df_2019_cleaned.isna().sum()} valeurs NaN dans le DataFrame entier')"
   ]
  },
  {
   "cell_type": "markdown",
   "metadata": {
    "id": "ihKaglRVu1ak"
   },
   "source": [
    "# Preprocessing"
   ]
  },
  {
   "cell_type": "code",
   "execution_count": 7,
   "metadata": {
    "id": "Jquo1Fbmu1am"
   },
   "outputs": [],
   "source": [
    "df = pd.read_csv(\"data/data_cleaned.csv\")\n",
    "df.drop(['ZipCode','Latitude', 'Longitude'], axis=1, inplace=True)"
   ]
  },
  {
   "cell_type": "code",
   "execution_count": 8,
   "metadata": {},
   "outputs": [
    {
     "data": {
      "text/plain": [
       "11"
      ]
     },
     "execution_count": 8,
     "metadata": {},
     "output_type": "execute_result"
    }
   ],
   "source": [
    "len(df.columns)"
   ]
  },
  {
   "cell_type": "code",
   "execution_count": 9,
   "metadata": {},
   "outputs": [
    {
     "data": {
      "text/plain": [
       "(1639, 11)"
      ]
     },
     "execution_count": 9,
     "metadata": {},
     "output_type": "execute_result"
    }
   ],
   "source": [
    "df.shape"
   ]
  },
  {
   "cell_type": "markdown",
   "metadata": {},
   "source": [
    "### Création Jeu de donnée principale"
   ]
  },
  {
   "cell_type": "markdown",
   "metadata": {},
   "source": [
    "Nous allons maintenant concaténer les deux DataFrames"
   ]
  },
  {
   "cell_type": "code",
   "execution_count": 10,
   "metadata": {},
   "outputs": [],
   "source": [
    "df_big = pd.concat([df,df_2015_cleaned,df_2017_cleaned,df_2019_cleaned], axis = 0)"
   ]
  },
  {
   "cell_type": "code",
   "execution_count": 11,
   "metadata": {},
   "outputs": [
    {
     "data": {
      "text/html": [
       "<div>\n",
       "<style scoped>\n",
       "    .dataframe tbody tr th:only-of-type {\n",
       "        vertical-align: middle;\n",
       "    }\n",
       "\n",
       "    .dataframe tbody tr th {\n",
       "        vertical-align: top;\n",
       "    }\n",
       "\n",
       "    .dataframe thead th {\n",
       "        text-align: right;\n",
       "    }\n",
       "</style>\n",
       "<table border=\"1\" class=\"dataframe\">\n",
       "  <thead>\n",
       "    <tr style=\"text-align: right;\">\n",
       "      <th></th>\n",
       "      <th>BuildingType</th>\n",
       "      <th>PrimaryPropertyType</th>\n",
       "      <th>CouncilDistrictCode</th>\n",
       "      <th>Neighborhood</th>\n",
       "      <th>NumberofFloors</th>\n",
       "      <th>PropertyGFATotal</th>\n",
       "      <th>PropertyGFAParking</th>\n",
       "      <th>ENERGYSTARScore</th>\n",
       "      <th>SteamUse(kBtu)</th>\n",
       "      <th>TotalGHGEmissions</th>\n",
       "      <th>BuildingAge</th>\n",
       "    </tr>\n",
       "  </thead>\n",
       "  <tbody>\n",
       "    <tr>\n",
       "      <th>0</th>\n",
       "      <td>NonResidential</td>\n",
       "      <td>Hotel</td>\n",
       "      <td>7.0</td>\n",
       "      <td>DOWNTOWN</td>\n",
       "      <td>12.0</td>\n",
       "      <td>88434</td>\n",
       "      <td>0.0</td>\n",
       "      <td>60.0</td>\n",
       "      <td>2003882.00</td>\n",
       "      <td>249.98</td>\n",
       "      <td>89.0</td>\n",
       "    </tr>\n",
       "    <tr>\n",
       "      <th>1</th>\n",
       "      <td>NonResidential</td>\n",
       "      <td>Hotel</td>\n",
       "      <td>7.0</td>\n",
       "      <td>DOWNTOWN</td>\n",
       "      <td>11.0</td>\n",
       "      <td>103566</td>\n",
       "      <td>15064.0</td>\n",
       "      <td>61.0</td>\n",
       "      <td>0.00</td>\n",
       "      <td>295.86</td>\n",
       "      <td>20.0</td>\n",
       "    </tr>\n",
       "    <tr>\n",
       "      <th>2</th>\n",
       "      <td>NonResidential</td>\n",
       "      <td>Hotel</td>\n",
       "      <td>7.0</td>\n",
       "      <td>DOWNTOWN</td>\n",
       "      <td>41.0</td>\n",
       "      <td>956110</td>\n",
       "      <td>196718.0</td>\n",
       "      <td>43.0</td>\n",
       "      <td>21566554.00</td>\n",
       "      <td>2089.28</td>\n",
       "      <td>47.0</td>\n",
       "    </tr>\n",
       "    <tr>\n",
       "      <th>3</th>\n",
       "      <td>NonResidential</td>\n",
       "      <td>Hotel</td>\n",
       "      <td>7.0</td>\n",
       "      <td>DOWNTOWN</td>\n",
       "      <td>10.0</td>\n",
       "      <td>61320</td>\n",
       "      <td>0.0</td>\n",
       "      <td>56.0</td>\n",
       "      <td>2214446.25</td>\n",
       "      <td>286.43</td>\n",
       "      <td>90.0</td>\n",
       "    </tr>\n",
       "    <tr>\n",
       "      <th>4</th>\n",
       "      <td>NonResidential</td>\n",
       "      <td>Hotel</td>\n",
       "      <td>7.0</td>\n",
       "      <td>DOWNTOWN</td>\n",
       "      <td>18.0</td>\n",
       "      <td>175580</td>\n",
       "      <td>62000.0</td>\n",
       "      <td>75.0</td>\n",
       "      <td>0.00</td>\n",
       "      <td>505.01</td>\n",
       "      <td>36.0</td>\n",
       "    </tr>\n",
       "    <tr>\n",
       "      <th>...</th>\n",
       "      <td>...</td>\n",
       "      <td>...</td>\n",
       "      <td>...</td>\n",
       "      <td>...</td>\n",
       "      <td>...</td>\n",
       "      <td>...</td>\n",
       "      <td>...</td>\n",
       "      <td>...</td>\n",
       "      <td>...</td>\n",
       "      <td>...</td>\n",
       "      <td>...</td>\n",
       "    </tr>\n",
       "    <tr>\n",
       "      <th>3563</th>\n",
       "      <td>NonResidential</td>\n",
       "      <td>Hotel</td>\n",
       "      <td>1.0</td>\n",
       "      <td>DOWNTOWN</td>\n",
       "      <td>45.0</td>\n",
       "      <td>1400666</td>\n",
       "      <td>338415.0</td>\n",
       "      <td>76.0</td>\n",
       "      <td>0.00</td>\n",
       "      <td>2569.30</td>\n",
       "      <td>1.0</td>\n",
       "    </tr>\n",
       "    <tr>\n",
       "      <th>3565</th>\n",
       "      <td>SPS-District K-12</td>\n",
       "      <td>K-12 School</td>\n",
       "      <td>1.0</td>\n",
       "      <td>NORTHWEST</td>\n",
       "      <td>3.0</td>\n",
       "      <td>162182</td>\n",
       "      <td>0.0</td>\n",
       "      <td>81.0</td>\n",
       "      <td>0.00</td>\n",
       "      <td>55.60</td>\n",
       "      <td>1.0</td>\n",
       "    </tr>\n",
       "    <tr>\n",
       "      <th>3567</th>\n",
       "      <td>NonResidential</td>\n",
       "      <td>Office</td>\n",
       "      <td>1.0</td>\n",
       "      <td>LAKE UNION</td>\n",
       "      <td>12.0</td>\n",
       "      <td>254218</td>\n",
       "      <td>58820.0</td>\n",
       "      <td>85.0</td>\n",
       "      <td>0.00</td>\n",
       "      <td>162.10</td>\n",
       "      <td>1.0</td>\n",
       "    </tr>\n",
       "    <tr>\n",
       "      <th>3577</th>\n",
       "      <td>NonResidential</td>\n",
       "      <td>Senior Care Community</td>\n",
       "      <td>1.0</td>\n",
       "      <td>NORTH</td>\n",
       "      <td>3.0</td>\n",
       "      <td>71461</td>\n",
       "      <td>10032.0</td>\n",
       "      <td>96.0</td>\n",
       "      <td>0.00</td>\n",
       "      <td>13.80</td>\n",
       "      <td>1.0</td>\n",
       "    </tr>\n",
       "    <tr>\n",
       "      <th>3578</th>\n",
       "      <td>NonResidential</td>\n",
       "      <td>Senior Care Community</td>\n",
       "      <td>1.0</td>\n",
       "      <td>SOUTHWEST</td>\n",
       "      <td>3.0</td>\n",
       "      <td>78232</td>\n",
       "      <td>10606.0</td>\n",
       "      <td>57.0</td>\n",
       "      <td>0.00</td>\n",
       "      <td>139.90</td>\n",
       "      <td>1.0</td>\n",
       "    </tr>\n",
       "  </tbody>\n",
       "</table>\n",
       "<p>6537 rows × 11 columns</p>\n",
       "</div>"
      ],
      "text/plain": [
       "           BuildingType    PrimaryPropertyType  CouncilDistrictCode  \\\n",
       "0        NonResidential                  Hotel                  7.0   \n",
       "1        NonResidential                  Hotel                  7.0   \n",
       "2        NonResidential                  Hotel                  7.0   \n",
       "3        NonResidential                  Hotel                  7.0   \n",
       "4        NonResidential                  Hotel                  7.0   \n",
       "...                 ...                    ...                  ...   \n",
       "3563     NonResidential                  Hotel                  1.0   \n",
       "3565  SPS-District K-12            K-12 School                  1.0   \n",
       "3567     NonResidential                 Office                  1.0   \n",
       "3577     NonResidential  Senior Care Community                  1.0   \n",
       "3578     NonResidential  Senior Care Community                  1.0   \n",
       "\n",
       "     Neighborhood  NumberofFloors  PropertyGFATotal  PropertyGFAParking  \\\n",
       "0        DOWNTOWN            12.0             88434                 0.0   \n",
       "1        DOWNTOWN            11.0            103566             15064.0   \n",
       "2        DOWNTOWN            41.0            956110            196718.0   \n",
       "3        DOWNTOWN            10.0             61320                 0.0   \n",
       "4        DOWNTOWN            18.0            175580             62000.0   \n",
       "...           ...             ...               ...                 ...   \n",
       "3563     DOWNTOWN            45.0           1400666            338415.0   \n",
       "3565    NORTHWEST             3.0            162182                 0.0   \n",
       "3567   LAKE UNION            12.0            254218             58820.0   \n",
       "3577        NORTH             3.0             71461             10032.0   \n",
       "3578    SOUTHWEST             3.0             78232             10606.0   \n",
       "\n",
       "      ENERGYSTARScore  SteamUse(kBtu)  TotalGHGEmissions  BuildingAge  \n",
       "0                60.0      2003882.00             249.98         89.0  \n",
       "1                61.0            0.00             295.86         20.0  \n",
       "2                43.0     21566554.00            2089.28         47.0  \n",
       "3                56.0      2214446.25             286.43         90.0  \n",
       "4                75.0            0.00             505.01         36.0  \n",
       "...               ...             ...                ...          ...  \n",
       "3563             76.0            0.00            2569.30          1.0  \n",
       "3565             81.0            0.00              55.60          1.0  \n",
       "3567             85.0            0.00             162.10          1.0  \n",
       "3577             96.0            0.00              13.80          1.0  \n",
       "3578             57.0            0.00             139.90          1.0  \n",
       "\n",
       "[6537 rows x 11 columns]"
      ]
     },
     "execution_count": 11,
     "metadata": {},
     "output_type": "execute_result"
    }
   ],
   "source": [
    "df_big"
   ]
  },
  {
   "cell_type": "markdown",
   "metadata": {},
   "source": [
    "## Préparation de la donnée"
   ]
  },
  {
   "cell_type": "markdown",
   "metadata": {},
   "source": [
    "* X train et test*\n",
    "\n",
    "Nous allons scale certaines données, et encoder les données catégoriques :\n",
    "\n",
    "Données à scale : 'CouncilDistrictCode', 'NumberofFloors', 'PropertyGFATotal', 'PropertyGFAParking', 'ENERGYSTARScore', 'SteamUse(kBtu)', 'BuildingAge'\n",
    "\n",
    "Donnée à encoder : 'BuildingType', 'PrimaryPropertyType', 'Neighborhood'"
   ]
  },
  {
   "cell_type": "markdown",
   "metadata": {},
   "source": [
    "### Scaling des données"
   ]
  },
  {
   "cell_type": "code",
   "execution_count": 12,
   "metadata": {},
   "outputs": [],
   "source": [
    "X_to_scale = df.drop(['TotalGHGEmissions', 'BuildingType', 'PrimaryPropertyType', 'Neighborhood'], axis=1)"
   ]
  },
  {
   "cell_type": "markdown",
   "metadata": {},
   "source": [
    "#### Compléter ENERGYSTARScore"
   ]
  },
  {
   "cell_type": "code",
   "execution_count": 13,
   "metadata": {},
   "outputs": [
    {
     "name": "stdout",
     "output_type": "stream",
     "text": [
      "Il y a actuellement 560 valeurs NaN dans ENERGYSTARScore\n"
     ]
    }
   ],
   "source": [
    "print(f'Il y a actuellement {X_to_scale.isna().sum()[4]} valeurs NaN dans ENERGYSTARScore')"
   ]
  },
  {
   "cell_type": "code",
   "execution_count": 14,
   "metadata": {},
   "outputs": [],
   "source": [
    "imputer = KNNImputer(n_neighbors=5)\n",
    "\n",
    "energystar = X_to_scale.values\n",
    "new_X_to_scale = pd.DataFrame(imputer.fit_transform(energystar), columns = X_to_scale.columns)"
   ]
  },
  {
   "cell_type": "code",
   "execution_count": 15,
   "metadata": {},
   "outputs": [
    {
     "name": "stdout",
     "output_type": "stream",
     "text": [
      "Il y a actuellement 0 valeurs NaN dans ENERGYSTARScore\n"
     ]
    }
   ],
   "source": [
    "print(f'Il y a actuellement {new_X_to_scale.isna().sum()[4]} valeurs NaN dans ENERGYSTARScore')"
   ]
  },
  {
   "cell_type": "markdown",
   "metadata": {},
   "source": [
    "#### Continuation du scaling"
   ]
  },
  {
   "cell_type": "code",
   "execution_count": 16,
   "metadata": {},
   "outputs": [],
   "source": [
    "to_scale = new_X_to_scale.values"
   ]
  },
  {
   "cell_type": "code",
   "execution_count": 17,
   "metadata": {},
   "outputs": [],
   "source": [
    "X_to_encode = df.drop(['TotalGHGEmissions',  'CouncilDistrictCode', 'NumberofFloors', 'PropertyGFATotal',\n",
    "                       'PropertyGFAParking', 'ENERGYSTARScore', 'SteamUse(kBtu)', 'BuildingAge'], axis = 1)"
   ]
  },
  {
   "cell_type": "code",
   "execution_count": 18,
   "metadata": {
    "id": "Ry_wTx4Cu1ax"
   },
   "outputs": [],
   "source": [
    "#X = df.drop('TotalGHGEmissions', axis=1)\n",
    "y = df['TotalGHGEmissions']"
   ]
  },
  {
   "cell_type": "markdown",
   "metadata": {},
   "source": [
    "#### Scaling"
   ]
  },
  {
   "cell_type": "code",
   "execution_count": 19,
   "metadata": {},
   "outputs": [],
   "source": [
    "rs = MinMaxScaler()\n",
    "rs = rs.fit(to_scale)\n",
    "to_scale = rs.transform(to_scale)"
   ]
  },
  {
   "cell_type": "code",
   "execution_count": 20,
   "metadata": {},
   "outputs": [],
   "source": [
    "X_scaled = pd.DataFrame(to_scale, columns = X_to_scale.columns)"
   ]
  },
  {
   "cell_type": "code",
   "execution_count": 21,
   "metadata": {},
   "outputs": [
    {
     "data": {
      "text/html": [
       "<div>\n",
       "<style scoped>\n",
       "    .dataframe tbody tr th:only-of-type {\n",
       "        vertical-align: middle;\n",
       "    }\n",
       "\n",
       "    .dataframe tbody tr th {\n",
       "        vertical-align: top;\n",
       "    }\n",
       "\n",
       "    .dataframe thead th {\n",
       "        text-align: right;\n",
       "    }\n",
       "</style>\n",
       "<table border=\"1\" class=\"dataframe\">\n",
       "  <thead>\n",
       "    <tr style=\"text-align: right;\">\n",
       "      <th></th>\n",
       "      <th>CouncilDistrictCode</th>\n",
       "      <th>NumberofFloors</th>\n",
       "      <th>PropertyGFATotal</th>\n",
       "      <th>PropertyGFAParking</th>\n",
       "      <th>ENERGYSTARScore</th>\n",
       "      <th>SteamUse(kBtu)</th>\n",
       "      <th>BuildingAge</th>\n",
       "    </tr>\n",
       "  </thead>\n",
       "  <tbody>\n",
       "    <tr>\n",
       "      <th>0</th>\n",
       "      <td>1.000000</td>\n",
       "      <td>0.121212</td>\n",
       "      <td>0.008288</td>\n",
       "      <td>0.000000</td>\n",
       "      <td>0.595960</td>\n",
       "      <td>0.014850</td>\n",
       "      <td>0.765217</td>\n",
       "    </tr>\n",
       "    <tr>\n",
       "      <th>1</th>\n",
       "      <td>1.000000</td>\n",
       "      <td>0.111111</td>\n",
       "      <td>0.009913</td>\n",
       "      <td>0.029387</td>\n",
       "      <td>0.606061</td>\n",
       "      <td>0.000000</td>\n",
       "      <td>0.165217</td>\n",
       "    </tr>\n",
       "    <tr>\n",
       "      <th>2</th>\n",
       "      <td>1.000000</td>\n",
       "      <td>0.414141</td>\n",
       "      <td>0.101497</td>\n",
       "      <td>0.383759</td>\n",
       "      <td>0.424242</td>\n",
       "      <td>0.159819</td>\n",
       "      <td>0.400000</td>\n",
       "    </tr>\n",
       "    <tr>\n",
       "      <th>3</th>\n",
       "      <td>1.000000</td>\n",
       "      <td>0.101010</td>\n",
       "      <td>0.005375</td>\n",
       "      <td>0.000000</td>\n",
       "      <td>0.555556</td>\n",
       "      <td>0.016410</td>\n",
       "      <td>0.773913</td>\n",
       "    </tr>\n",
       "    <tr>\n",
       "      <th>4</th>\n",
       "      <td>1.000000</td>\n",
       "      <td>0.181818</td>\n",
       "      <td>0.017649</td>\n",
       "      <td>0.120950</td>\n",
       "      <td>0.747475</td>\n",
       "      <td>0.000000</td>\n",
       "      <td>0.304348</td>\n",
       "    </tr>\n",
       "    <tr>\n",
       "      <th>...</th>\n",
       "      <td>...</td>\n",
       "      <td>...</td>\n",
       "      <td>...</td>\n",
       "      <td>...</td>\n",
       "      <td>...</td>\n",
       "      <td>...</td>\n",
       "      <td>...</td>\n",
       "    </tr>\n",
       "    <tr>\n",
       "      <th>1634</th>\n",
       "      <td>0.166667</td>\n",
       "      <td>0.010101</td>\n",
       "      <td>0.000108</td>\n",
       "      <td>0.000000</td>\n",
       "      <td>0.454545</td>\n",
       "      <td>0.000000</td>\n",
       "      <td>0.217391</td>\n",
       "    </tr>\n",
       "    <tr>\n",
       "      <th>1635</th>\n",
       "      <td>0.166667</td>\n",
       "      <td>0.010101</td>\n",
       "      <td>0.000507</td>\n",
       "      <td>0.000000</td>\n",
       "      <td>0.660606</td>\n",
       "      <td>0.000000</td>\n",
       "      <td>0.095652</td>\n",
       "    </tr>\n",
       "    <tr>\n",
       "      <th>1636</th>\n",
       "      <td>1.000000</td>\n",
       "      <td>0.010101</td>\n",
       "      <td>0.000201</td>\n",
       "      <td>0.000000</td>\n",
       "      <td>0.660606</td>\n",
       "      <td>0.000000</td>\n",
       "      <td>0.356522</td>\n",
       "    </tr>\n",
       "    <tr>\n",
       "      <th>1637</th>\n",
       "      <td>0.000000</td>\n",
       "      <td>0.010101</td>\n",
       "      <td>0.000303</td>\n",
       "      <td>0.000000</td>\n",
       "      <td>0.660606</td>\n",
       "      <td>0.000000</td>\n",
       "      <td>0.226087</td>\n",
       "    </tr>\n",
       "    <tr>\n",
       "      <th>1638</th>\n",
       "      <td>0.166667</td>\n",
       "      <td>0.010101</td>\n",
       "      <td>0.000749</td>\n",
       "      <td>0.000000</td>\n",
       "      <td>0.509091</td>\n",
       "      <td>0.000000</td>\n",
       "      <td>0.669565</td>\n",
       "    </tr>\n",
       "  </tbody>\n",
       "</table>\n",
       "<p>1639 rows × 7 columns</p>\n",
       "</div>"
      ],
      "text/plain": [
       "      CouncilDistrictCode  NumberofFloors  PropertyGFATotal  \\\n",
       "0                1.000000        0.121212          0.008288   \n",
       "1                1.000000        0.111111          0.009913   \n",
       "2                1.000000        0.414141          0.101497   \n",
       "3                1.000000        0.101010          0.005375   \n",
       "4                1.000000        0.181818          0.017649   \n",
       "...                   ...             ...               ...   \n",
       "1634             0.166667        0.010101          0.000108   \n",
       "1635             0.166667        0.010101          0.000507   \n",
       "1636             1.000000        0.010101          0.000201   \n",
       "1637             0.000000        0.010101          0.000303   \n",
       "1638             0.166667        0.010101          0.000749   \n",
       "\n",
       "      PropertyGFAParking  ENERGYSTARScore  SteamUse(kBtu)  BuildingAge  \n",
       "0               0.000000         0.595960        0.014850     0.765217  \n",
       "1               0.029387         0.606061        0.000000     0.165217  \n",
       "2               0.383759         0.424242        0.159819     0.400000  \n",
       "3               0.000000         0.555556        0.016410     0.773913  \n",
       "4               0.120950         0.747475        0.000000     0.304348  \n",
       "...                  ...              ...             ...          ...  \n",
       "1634            0.000000         0.454545        0.000000     0.217391  \n",
       "1635            0.000000         0.660606        0.000000     0.095652  \n",
       "1636            0.000000         0.660606        0.000000     0.356522  \n",
       "1637            0.000000         0.660606        0.000000     0.226087  \n",
       "1638            0.000000         0.509091        0.000000     0.669565  \n",
       "\n",
       "[1639 rows x 7 columns]"
      ]
     },
     "execution_count": 21,
     "metadata": {},
     "output_type": "execute_result"
    }
   ],
   "source": [
    "X_scaled"
   ]
  },
  {
   "cell_type": "markdown",
   "metadata": {},
   "source": [
    "#### Encoding"
   ]
  },
  {
   "cell_type": "code",
   "execution_count": 22,
   "metadata": {
    "scrolled": false
   },
   "outputs": [
    {
     "data": {
      "text/html": [
       "<div>\n",
       "<style scoped>\n",
       "    .dataframe tbody tr th:only-of-type {\n",
       "        vertical-align: middle;\n",
       "    }\n",
       "\n",
       "    .dataframe tbody tr th {\n",
       "        vertical-align: top;\n",
       "    }\n",
       "\n",
       "    .dataframe thead th {\n",
       "        text-align: right;\n",
       "    }\n",
       "</style>\n",
       "<table border=\"1\" class=\"dataframe\">\n",
       "  <thead>\n",
       "    <tr style=\"text-align: right;\">\n",
       "      <th></th>\n",
       "      <th>x0_Campus</th>\n",
       "      <th>x0_NonResidential</th>\n",
       "      <th>x0_Nonresidential COS</th>\n",
       "      <th>x0_SPS-District K-12</th>\n",
       "      <th>x1_Distribution Center</th>\n",
       "      <th>x1_Hospital</th>\n",
       "      <th>x1_Hotel</th>\n",
       "      <th>x1_K-12 School</th>\n",
       "      <th>x1_Laboratory</th>\n",
       "      <th>x1_Large Office</th>\n",
       "      <th>...</th>\n",
       "      <th>x2_DOWNTOWN</th>\n",
       "      <th>x2_EAST</th>\n",
       "      <th>x2_GREATER DUWAMISH</th>\n",
       "      <th>x2_LAKE UNION</th>\n",
       "      <th>x2_MAGNOLIA / QUEEN ANNE</th>\n",
       "      <th>x2_NORTH</th>\n",
       "      <th>x2_NORTHEAST</th>\n",
       "      <th>x2_NORTHWEST</th>\n",
       "      <th>x2_SOUTHEAST</th>\n",
       "      <th>x2_SOUTHWEST</th>\n",
       "    </tr>\n",
       "  </thead>\n",
       "  <tbody>\n",
       "    <tr>\n",
       "      <th>0</th>\n",
       "      <td>0.0</td>\n",
       "      <td>1.0</td>\n",
       "      <td>0.0</td>\n",
       "      <td>0.0</td>\n",
       "      <td>0.0</td>\n",
       "      <td>0.0</td>\n",
       "      <td>1.0</td>\n",
       "      <td>0.0</td>\n",
       "      <td>0.0</td>\n",
       "      <td>0.0</td>\n",
       "      <td>...</td>\n",
       "      <td>1.0</td>\n",
       "      <td>0.0</td>\n",
       "      <td>0.0</td>\n",
       "      <td>0.0</td>\n",
       "      <td>0.0</td>\n",
       "      <td>0.0</td>\n",
       "      <td>0.0</td>\n",
       "      <td>0.0</td>\n",
       "      <td>0.0</td>\n",
       "      <td>0.0</td>\n",
       "    </tr>\n",
       "    <tr>\n",
       "      <th>1</th>\n",
       "      <td>0.0</td>\n",
       "      <td>1.0</td>\n",
       "      <td>0.0</td>\n",
       "      <td>0.0</td>\n",
       "      <td>0.0</td>\n",
       "      <td>0.0</td>\n",
       "      <td>1.0</td>\n",
       "      <td>0.0</td>\n",
       "      <td>0.0</td>\n",
       "      <td>0.0</td>\n",
       "      <td>...</td>\n",
       "      <td>1.0</td>\n",
       "      <td>0.0</td>\n",
       "      <td>0.0</td>\n",
       "      <td>0.0</td>\n",
       "      <td>0.0</td>\n",
       "      <td>0.0</td>\n",
       "      <td>0.0</td>\n",
       "      <td>0.0</td>\n",
       "      <td>0.0</td>\n",
       "      <td>0.0</td>\n",
       "    </tr>\n",
       "    <tr>\n",
       "      <th>2</th>\n",
       "      <td>0.0</td>\n",
       "      <td>1.0</td>\n",
       "      <td>0.0</td>\n",
       "      <td>0.0</td>\n",
       "      <td>0.0</td>\n",
       "      <td>0.0</td>\n",
       "      <td>1.0</td>\n",
       "      <td>0.0</td>\n",
       "      <td>0.0</td>\n",
       "      <td>0.0</td>\n",
       "      <td>...</td>\n",
       "      <td>1.0</td>\n",
       "      <td>0.0</td>\n",
       "      <td>0.0</td>\n",
       "      <td>0.0</td>\n",
       "      <td>0.0</td>\n",
       "      <td>0.0</td>\n",
       "      <td>0.0</td>\n",
       "      <td>0.0</td>\n",
       "      <td>0.0</td>\n",
       "      <td>0.0</td>\n",
       "    </tr>\n",
       "    <tr>\n",
       "      <th>3</th>\n",
       "      <td>0.0</td>\n",
       "      <td>1.0</td>\n",
       "      <td>0.0</td>\n",
       "      <td>0.0</td>\n",
       "      <td>0.0</td>\n",
       "      <td>0.0</td>\n",
       "      <td>1.0</td>\n",
       "      <td>0.0</td>\n",
       "      <td>0.0</td>\n",
       "      <td>0.0</td>\n",
       "      <td>...</td>\n",
       "      <td>1.0</td>\n",
       "      <td>0.0</td>\n",
       "      <td>0.0</td>\n",
       "      <td>0.0</td>\n",
       "      <td>0.0</td>\n",
       "      <td>0.0</td>\n",
       "      <td>0.0</td>\n",
       "      <td>0.0</td>\n",
       "      <td>0.0</td>\n",
       "      <td>0.0</td>\n",
       "    </tr>\n",
       "    <tr>\n",
       "      <th>4</th>\n",
       "      <td>0.0</td>\n",
       "      <td>1.0</td>\n",
       "      <td>0.0</td>\n",
       "      <td>0.0</td>\n",
       "      <td>0.0</td>\n",
       "      <td>0.0</td>\n",
       "      <td>1.0</td>\n",
       "      <td>0.0</td>\n",
       "      <td>0.0</td>\n",
       "      <td>0.0</td>\n",
       "      <td>...</td>\n",
       "      <td>1.0</td>\n",
       "      <td>0.0</td>\n",
       "      <td>0.0</td>\n",
       "      <td>0.0</td>\n",
       "      <td>0.0</td>\n",
       "      <td>0.0</td>\n",
       "      <td>0.0</td>\n",
       "      <td>0.0</td>\n",
       "      <td>0.0</td>\n",
       "      <td>0.0</td>\n",
       "    </tr>\n",
       "    <tr>\n",
       "      <th>...</th>\n",
       "      <td>...</td>\n",
       "      <td>...</td>\n",
       "      <td>...</td>\n",
       "      <td>...</td>\n",
       "      <td>...</td>\n",
       "      <td>...</td>\n",
       "      <td>...</td>\n",
       "      <td>...</td>\n",
       "      <td>...</td>\n",
       "      <td>...</td>\n",
       "      <td>...</td>\n",
       "      <td>...</td>\n",
       "      <td>...</td>\n",
       "      <td>...</td>\n",
       "      <td>...</td>\n",
       "      <td>...</td>\n",
       "      <td>...</td>\n",
       "      <td>...</td>\n",
       "      <td>...</td>\n",
       "      <td>...</td>\n",
       "      <td>...</td>\n",
       "    </tr>\n",
       "    <tr>\n",
       "      <th>1634</th>\n",
       "      <td>0.0</td>\n",
       "      <td>0.0</td>\n",
       "      <td>1.0</td>\n",
       "      <td>0.0</td>\n",
       "      <td>0.0</td>\n",
       "      <td>0.0</td>\n",
       "      <td>0.0</td>\n",
       "      <td>0.0</td>\n",
       "      <td>0.0</td>\n",
       "      <td>0.0</td>\n",
       "      <td>...</td>\n",
       "      <td>0.0</td>\n",
       "      <td>0.0</td>\n",
       "      <td>1.0</td>\n",
       "      <td>0.0</td>\n",
       "      <td>0.0</td>\n",
       "      <td>0.0</td>\n",
       "      <td>0.0</td>\n",
       "      <td>0.0</td>\n",
       "      <td>0.0</td>\n",
       "      <td>0.0</td>\n",
       "    </tr>\n",
       "    <tr>\n",
       "      <th>1635</th>\n",
       "      <td>0.0</td>\n",
       "      <td>0.0</td>\n",
       "      <td>1.0</td>\n",
       "      <td>0.0</td>\n",
       "      <td>0.0</td>\n",
       "      <td>0.0</td>\n",
       "      <td>0.0</td>\n",
       "      <td>0.0</td>\n",
       "      <td>0.0</td>\n",
       "      <td>0.0</td>\n",
       "      <td>...</td>\n",
       "      <td>1.0</td>\n",
       "      <td>0.0</td>\n",
       "      <td>0.0</td>\n",
       "      <td>0.0</td>\n",
       "      <td>0.0</td>\n",
       "      <td>0.0</td>\n",
       "      <td>0.0</td>\n",
       "      <td>0.0</td>\n",
       "      <td>0.0</td>\n",
       "      <td>0.0</td>\n",
       "    </tr>\n",
       "    <tr>\n",
       "      <th>1636</th>\n",
       "      <td>0.0</td>\n",
       "      <td>0.0</td>\n",
       "      <td>1.0</td>\n",
       "      <td>0.0</td>\n",
       "      <td>0.0</td>\n",
       "      <td>0.0</td>\n",
       "      <td>0.0</td>\n",
       "      <td>0.0</td>\n",
       "      <td>0.0</td>\n",
       "      <td>0.0</td>\n",
       "      <td>...</td>\n",
       "      <td>0.0</td>\n",
       "      <td>0.0</td>\n",
       "      <td>0.0</td>\n",
       "      <td>0.0</td>\n",
       "      <td>1.0</td>\n",
       "      <td>0.0</td>\n",
       "      <td>0.0</td>\n",
       "      <td>0.0</td>\n",
       "      <td>0.0</td>\n",
       "      <td>0.0</td>\n",
       "    </tr>\n",
       "    <tr>\n",
       "      <th>1637</th>\n",
       "      <td>0.0</td>\n",
       "      <td>0.0</td>\n",
       "      <td>1.0</td>\n",
       "      <td>0.0</td>\n",
       "      <td>0.0</td>\n",
       "      <td>0.0</td>\n",
       "      <td>0.0</td>\n",
       "      <td>0.0</td>\n",
       "      <td>0.0</td>\n",
       "      <td>0.0</td>\n",
       "      <td>...</td>\n",
       "      <td>0.0</td>\n",
       "      <td>0.0</td>\n",
       "      <td>1.0</td>\n",
       "      <td>0.0</td>\n",
       "      <td>0.0</td>\n",
       "      <td>0.0</td>\n",
       "      <td>0.0</td>\n",
       "      <td>0.0</td>\n",
       "      <td>0.0</td>\n",
       "      <td>0.0</td>\n",
       "    </tr>\n",
       "    <tr>\n",
       "      <th>1638</th>\n",
       "      <td>0.0</td>\n",
       "      <td>0.0</td>\n",
       "      <td>1.0</td>\n",
       "      <td>0.0</td>\n",
       "      <td>0.0</td>\n",
       "      <td>0.0</td>\n",
       "      <td>0.0</td>\n",
       "      <td>0.0</td>\n",
       "      <td>0.0</td>\n",
       "      <td>0.0</td>\n",
       "      <td>...</td>\n",
       "      <td>0.0</td>\n",
       "      <td>0.0</td>\n",
       "      <td>1.0</td>\n",
       "      <td>0.0</td>\n",
       "      <td>0.0</td>\n",
       "      <td>0.0</td>\n",
       "      <td>0.0</td>\n",
       "      <td>0.0</td>\n",
       "      <td>0.0</td>\n",
       "      <td>0.0</td>\n",
       "    </tr>\n",
       "  </tbody>\n",
       "</table>\n",
       "<p>1639 rows × 38 columns</p>\n",
       "</div>"
      ],
      "text/plain": [
       "      x0_Campus  x0_NonResidential  x0_Nonresidential COS  \\\n",
       "0           0.0                1.0                    0.0   \n",
       "1           0.0                1.0                    0.0   \n",
       "2           0.0                1.0                    0.0   \n",
       "3           0.0                1.0                    0.0   \n",
       "4           0.0                1.0                    0.0   \n",
       "...         ...                ...                    ...   \n",
       "1634        0.0                0.0                    1.0   \n",
       "1635        0.0                0.0                    1.0   \n",
       "1636        0.0                0.0                    1.0   \n",
       "1637        0.0                0.0                    1.0   \n",
       "1638        0.0                0.0                    1.0   \n",
       "\n",
       "      x0_SPS-District K-12  x1_Distribution Center  x1_Hospital  x1_Hotel  \\\n",
       "0                      0.0                     0.0          0.0       1.0   \n",
       "1                      0.0                     0.0          0.0       1.0   \n",
       "2                      0.0                     0.0          0.0       1.0   \n",
       "3                      0.0                     0.0          0.0       1.0   \n",
       "4                      0.0                     0.0          0.0       1.0   \n",
       "...                    ...                     ...          ...       ...   \n",
       "1634                   0.0                     0.0          0.0       0.0   \n",
       "1635                   0.0                     0.0          0.0       0.0   \n",
       "1636                   0.0                     0.0          0.0       0.0   \n",
       "1637                   0.0                     0.0          0.0       0.0   \n",
       "1638                   0.0                     0.0          0.0       0.0   \n",
       "\n",
       "      x1_K-12 School  x1_Laboratory  x1_Large Office  ...  x2_DOWNTOWN  \\\n",
       "0                0.0            0.0              0.0  ...          1.0   \n",
       "1                0.0            0.0              0.0  ...          1.0   \n",
       "2                0.0            0.0              0.0  ...          1.0   \n",
       "3                0.0            0.0              0.0  ...          1.0   \n",
       "4                0.0            0.0              0.0  ...          1.0   \n",
       "...              ...            ...              ...  ...          ...   \n",
       "1634             0.0            0.0              0.0  ...          0.0   \n",
       "1635             0.0            0.0              0.0  ...          1.0   \n",
       "1636             0.0            0.0              0.0  ...          0.0   \n",
       "1637             0.0            0.0              0.0  ...          0.0   \n",
       "1638             0.0            0.0              0.0  ...          0.0   \n",
       "\n",
       "      x2_EAST  x2_GREATER DUWAMISH  x2_LAKE UNION  x2_MAGNOLIA / QUEEN ANNE  \\\n",
       "0         0.0                  0.0            0.0                       0.0   \n",
       "1         0.0                  0.0            0.0                       0.0   \n",
       "2         0.0                  0.0            0.0                       0.0   \n",
       "3         0.0                  0.0            0.0                       0.0   \n",
       "4         0.0                  0.0            0.0                       0.0   \n",
       "...       ...                  ...            ...                       ...   \n",
       "1634      0.0                  1.0            0.0                       0.0   \n",
       "1635      0.0                  0.0            0.0                       0.0   \n",
       "1636      0.0                  0.0            0.0                       1.0   \n",
       "1637      0.0                  1.0            0.0                       0.0   \n",
       "1638      0.0                  1.0            0.0                       0.0   \n",
       "\n",
       "      x2_NORTH  x2_NORTHEAST  x2_NORTHWEST  x2_SOUTHEAST  x2_SOUTHWEST  \n",
       "0          0.0           0.0           0.0           0.0           0.0  \n",
       "1          0.0           0.0           0.0           0.0           0.0  \n",
       "2          0.0           0.0           0.0           0.0           0.0  \n",
       "3          0.0           0.0           0.0           0.0           0.0  \n",
       "4          0.0           0.0           0.0           0.0           0.0  \n",
       "...        ...           ...           ...           ...           ...  \n",
       "1634       0.0           0.0           0.0           0.0           0.0  \n",
       "1635       0.0           0.0           0.0           0.0           0.0  \n",
       "1636       0.0           0.0           0.0           0.0           0.0  \n",
       "1637       0.0           0.0           0.0           0.0           0.0  \n",
       "1638       0.0           0.0           0.0           0.0           0.0  \n",
       "\n",
       "[1639 rows x 38 columns]"
      ]
     },
     "execution_count": 22,
     "metadata": {},
     "output_type": "execute_result"
    }
   ],
   "source": [
    "# OneHotEncoder\n",
    "ohe = OneHotEncoder(sparse=False)\n",
    "OH_cols = pd.DataFrame(ohe.fit_transform(X_to_encode), columns=ohe.get_feature_names())\n",
    "\n",
    "# One-hot encoding removed index; put it back\n",
    "OH_cols.index = X_to_encode.index\n",
    "\n",
    "num_trainset = X_to_encode.drop(columns={'BuildingType', 'PrimaryPropertyType', 'Neighborhood'}, axis = 1)\n",
    "\n",
    "# Add one-hot encoded columns to numerical features\n",
    "X_encoded = pd.concat([num_trainset, OH_cols], axis=1)\n",
    "X_encoded"
   ]
  },
  {
   "cell_type": "markdown",
   "metadata": {},
   "source": [
    "### Assemblage des DataFrames"
   ]
  },
  {
   "cell_type": "code",
   "execution_count": 23,
   "metadata": {},
   "outputs": [],
   "source": [
    "X = pd.concat([X_scaled, X_encoded], axis=1)"
   ]
  },
  {
   "cell_type": "code",
   "execution_count": 24,
   "metadata": {
    "id": "Iza0YYfru1ay"
   },
   "outputs": [],
   "source": [
    "X_train, X_test, Y_train, Y_test = model_selection.train_test_split(X, y,test_size=0.3)"
   ]
  },
  {
   "cell_type": "markdown",
   "metadata": {
    "id": "EDELQ7cBu1a-"
   },
   "source": [
    "# Modélisation"
   ]
  },
  {
   "cell_type": "code",
   "execution_count": 25,
   "metadata": {
    "id": "NzYw1SVgu1bA"
   },
   "outputs": [],
   "source": [
    "results = pd.DataFrame(columns=['Modèle','RMSE','Inference_duration (microsecs)'])"
   ]
  },
  {
   "cell_type": "markdown",
   "metadata": {
    "id": "cnsgLiB6u1bB"
   },
   "source": [
    "## RandomForest Regressor"
   ]
  },
  {
   "cell_type": "code",
   "execution_count": 26,
   "metadata": {
    "id": "XfGVB-k2u1bD"
   },
   "outputs": [],
   "source": [
    "parameters = {\n",
    "    'n_estimators' : [10,50,100,300,500],\n",
    "    'min_samples_leaf' : [1,3,5,10], \n",
    "    'max_features': ['auto', 'sqrt']\n",
    "}"
   ]
  },
  {
   "cell_type": "code",
   "execution_count": 27,
   "metadata": {
    "id": "a8Kj3VdXu1bE",
    "outputId": "4ae52501-db4a-4a97-af79-2b1c21c88644"
   },
   "outputs": [
    {
     "name": "stdout",
     "output_type": "stream",
     "text": [
      "Fitting 5 folds for each of 40 candidates, totalling 200 fits\n"
     ]
    },
    {
     "data": {
      "text/plain": [
       "GridSearchCV(cv=5, estimator=RandomForestRegressor(),\n",
       "             param_grid={'max_features': ['auto', 'sqrt'],\n",
       "                         'min_samples_leaf': [1, 3, 5, 10],\n",
       "                         'n_estimators': [10, 50, 100, 300, 500]},\n",
       "             verbose=True)"
      ]
     },
     "execution_count": 27,
     "metadata": {},
     "output_type": "execute_result"
    }
   ],
   "source": [
    "rfr = GridSearchCV(RandomForestRegressor(), param_grid = parameters, verbose=True, cv=5)\n",
    "rfr.fit(X_train, Y_train)"
   ]
  },
  {
   "cell_type": "code",
   "execution_count": 28,
   "metadata": {
    "id": "kCYVxdEzu1bF",
    "outputId": "e98f9f10-0abe-45af-dd03-119e2534b6b3"
   },
   "outputs": [
    {
     "data": {
      "text/plain": [
       "{'max_features': 'sqrt', 'min_samples_leaf': 1, 'n_estimators': 500}"
      ]
     },
     "execution_count": 28,
     "metadata": {},
     "output_type": "execute_result"
    }
   ],
   "source": [
    "rfr.best_params_"
   ]
  },
  {
   "cell_type": "code",
   "execution_count": 29,
   "metadata": {
    "id": "SAUdPqRMu1bH"
   },
   "outputs": [],
   "source": [
    "#results = results.append({\n",
    "#    'Modèle' : 'Random Forest',\n",
    "#    'RMSE' : rmse_estimator_rfr,\n",
    "#    }\n",
    "#    ,ignore_index=True)"
   ]
  },
  {
   "cell_type": "code",
   "execution_count": 30,
   "metadata": {
    "id": "xphj0ffru1bI",
    "outputId": "7ceaa66c-c4d7-4b15-e575-4d67b4ffe05a"
   },
   "outputs": [
    {
     "data": {
      "text/html": [
       "<div>\n",
       "<style scoped>\n",
       "    .dataframe tbody tr th:only-of-type {\n",
       "        vertical-align: middle;\n",
       "    }\n",
       "\n",
       "    .dataframe tbody tr th {\n",
       "        vertical-align: top;\n",
       "    }\n",
       "\n",
       "    .dataframe thead th {\n",
       "        text-align: right;\n",
       "    }\n",
       "</style>\n",
       "<table border=\"1\" class=\"dataframe\">\n",
       "  <thead>\n",
       "    <tr style=\"text-align: right;\">\n",
       "      <th></th>\n",
       "      <th>Modèle</th>\n",
       "      <th>RMSE</th>\n",
       "      <th>Inference_duration (microsecs)</th>\n",
       "    </tr>\n",
       "  </thead>\n",
       "  <tbody>\n",
       "  </tbody>\n",
       "</table>\n",
       "</div>"
      ],
      "text/plain": [
       "Empty DataFrame\n",
       "Columns: [Modèle, RMSE, Inference_duration (microsecs)]\n",
       "Index: []"
      ]
     },
     "execution_count": 30,
     "metadata": {},
     "output_type": "execute_result"
    }
   ],
   "source": [
    "results"
   ]
  },
  {
   "cell_type": "code",
   "execution_count": 31,
   "metadata": {
    "id": "Lbt4yBE8u1bO"
   },
   "outputs": [],
   "source": [
    "coefficients = abs(rfr.best_estimator_.feature_importances_)\n",
    "liste_coefs_rer = pd.concat((pd.DataFrame(X.columns, columns = ['Variables']), \n",
    "                      pd.DataFrame(coefficients, columns = ['Coefficients'])), axis = 1).sort_values(by='Coefficients', ascending = False)"
   ]
  },
  {
   "cell_type": "code",
   "execution_count": 32,
   "metadata": {
    "id": "WasAsF7Yu1bP",
    "outputId": "4f0b222f-db42-43f2-9516-43015d157eef"
   },
   "outputs": [
    {
     "data": {
      "image/png": "[encoded data removed]",
      "text/plain": [
       "<Figure size 576x576 with 1 Axes>"
      ]
     },
     "metadata": {
      "needs_background": "light"
     },
     "output_type": "display_data"
    }
   ],
   "source": [
    "plt.figure(figsize=(8,8))\n",
    "plt.title('Random Forest - Importance des 10 premières Features')\n",
    "sns.barplot(y = liste_coefs_rer['Variables'].head(10),\n",
    "            x = liste_coefs_rer['Coefficients'].head(10))\n",
    "plt.show()"
   ]
  },
  {
   "cell_type": "code",
   "execution_count": 33,
   "metadata": {
    "id": "ogCtcvsFu1bR"
   },
   "outputs": [],
   "source": [
    "y_pred = rfr.predict(X_test)"
   ]
  },
  {
   "cell_type": "code",
   "execution_count": 34,
   "metadata": {},
   "outputs": [
    {
     "data": {
      "text/plain": [
       "count      492.000000\n",
       "mean       187.055081\n",
       "std        821.925055\n",
       "min          0.750000\n",
       "25%         19.780000\n",
       "50%         46.310000\n",
       "75%        120.407500\n",
       "max      12307.160000\n",
       "Name: TotalGHGEmissions, dtype: float64"
      ]
     },
     "execution_count": 34,
     "metadata": {},
     "output_type": "execute_result"
    }
   ],
   "source": [
    "Y_test.describe()"
   ]
  },
  {
   "cell_type": "code",
   "execution_count": 35,
   "metadata": {},
   "outputs": [],
   "source": [
    "verif = pd.DataFrame(data=Y_test)\n",
    "verif['y_pred'] = y_pred\n",
    "\n",
    "verif.columns = ['Y_test','y_pred']"
   ]
  },
  {
   "cell_type": "code",
   "execution_count": 36,
   "metadata": {},
   "outputs": [
    {
     "data": {
      "text/plain": [
       "count     492.000000\n",
       "mean      173.310086\n",
       "std       391.467552\n",
       "min        10.424860\n",
       "25%        50.244135\n",
       "50%        79.053410\n",
       "75%       160.494895\n",
       "max      6249.686820\n",
       "Name: y_pred, dtype: float64"
      ]
     },
     "execution_count": 36,
     "metadata": {},
     "output_type": "execute_result"
    }
   ],
   "source": [
    "verif.y_pred.describe()"
   ]
  },
  {
   "cell_type": "code",
   "execution_count": 37,
   "metadata": {
    "id": "wvNxfjv7u1bR",
    "outputId": "af8be0c8-ee06-4d7a-8959-d0b8a7946061"
   },
   "outputs": [
    {
     "name": "stdout",
     "output_type": "stream",
     "text": [
      "R²: 0.6055568660187997\n",
      "MAE: 124.57343166666661\n",
      "RMSE: 515.6827619663364\n"
     ]
    }
   ],
   "source": [
    "print(\"R²:\", r2_score(Y_test, y_pred))\n",
    "print(\"MAE:\", mean_absolute_error(Y_test, y_pred))\n",
    "#print(\"MSE:\", mean_squared_error(Y_test, y_pred))\n",
    "print(\"RMSE:\", mean_squared_error(Y_test, y_pred, squared=False))"
   ]
  },
  {
   "cell_type": "code",
   "execution_count": 38,
   "metadata": {
    "id": "QNBf2Bryu1bS",
    "outputId": "e6641cfa-db61-459c-afcc-89a64bcde2cb"
   },
   "outputs": [
    {
     "data": {
      "text/plain": [
       "1171     16.50\n",
       "706       6.49\n",
       "1316     34.62\n",
       "823      82.34\n",
       "293     328.83\n",
       "         ...  \n",
       "490     116.95\n",
       "466     100.42\n",
       "127     242.36\n",
       "1352     26.56\n",
       "37      130.56\n",
       "Name: TotalGHGEmissions, Length: 492, dtype: float64"
      ]
     },
     "execution_count": 38,
     "metadata": {},
     "output_type": "execute_result"
    }
   ],
   "source": [
    "Y_test"
   ]
  },
  {
   "cell_type": "code",
   "execution_count": 39,
   "metadata": {
    "id": "wlOmfEUHu1bT",
    "outputId": "a204c9e1-0740-4940-9309-cfe43c8cdbf8"
   },
   "outputs": [
    {
     "data": {
      "text/plain": [
       "RandomForestRegressor(max_features='sqrt', n_estimators=300)"
      ]
     },
     "execution_count": 39,
     "metadata": {},
     "output_type": "execute_result"
    }
   ],
   "source": [
    "best_rfr = RandomForestRegressor(max_features=\"sqrt\", min_samples_leaf=1, n_estimators = 300)\n",
    "best_rfr.fit(X_train, Y_train)"
   ]
  },
  {
   "cell_type": "code",
   "execution_count": 40,
   "metadata": {
    "id": "o_XPfYS8u1bU"
   },
   "outputs": [],
   "source": [
    "y_pred_best = best_rfr.predict(X_test)"
   ]
  },
  {
   "cell_type": "code",
   "execution_count": 41,
   "metadata": {
    "id": "Nscrztk9u1bW",
    "outputId": "9ffc9d72-4166-42e9-fe3b-9d206bf62487"
   },
   "outputs": [
    {
     "name": "stdout",
     "output_type": "stream",
     "text": [
      "R²: 0.6437237335294326\n",
      "MAE: 122.04837581300811\n",
      "RMSE: 490.0990493773708\n"
     ]
    }
   ],
   "source": [
    "print(\"R²:\", r2_score(Y_test, y_pred_best))\n",
    "print(\"MAE:\", mean_absolute_error(Y_test, y_pred_best))\n",
    "#print(\"MSE:\", mean_squared_error(Y_test, y_pred))\n",
    "print(\"RMSE:\", mean_squared_error(Y_test, y_pred_best, squared=False))"
   ]
  },
  {
   "cell_type": "raw",
   "metadata": {
    "id": "mqtH6rgsu1bX"
   },
   "source": [
    "import pickle\n",
    "rfr_model = 'rfr_model.pkl'\n",
    "pickle.dump(best_rfr, open(rfr_model, 'wb'))"
   ]
  },
  {
   "cell_type": "markdown",
   "metadata": {
    "id": "LL8jnP1tu1ba"
   },
   "source": [
    "## XGboostRegressor"
   ]
  },
  {
   "cell_type": "code",
   "execution_count": 42,
   "metadata": {
    "id": "YFjlwRxVu1bb"
   },
   "outputs": [],
   "source": [
    "from xgboost import XGBRegressor"
   ]
  },
  {
   "cell_type": "code",
   "execution_count": 43,
   "metadata": {
    "id": "lf2D4d87u1bc",
    "scrolled": true
   },
   "outputs": [
    {
     "data": {
      "text/plain": [
       "GridSearchCV(cv=5,\n",
       "             estimator=XGBRegressor(base_score=None, booster=None,\n",
       "                                    callbacks=None, colsample_bylevel=None,\n",
       "                                    colsample_bynode=None,\n",
       "                                    colsample_bytree=None,\n",
       "                                    early_stopping_rounds=None,\n",
       "                                    enable_categorical=False, eval_metric=None,\n",
       "                                    feature_types=None, gamma=None, gpu_id=None,\n",
       "                                    grow_policy=None, importance_type=None,\n",
       "                                    interaction_constraints=None,\n",
       "                                    learning_rate=None, max_bin=None,\n",
       "                                    max_cat_threshold=None,\n",
       "                                    max_cat_to_onehot=None, max_delta_step=None,\n",
       "                                    max_depth=None, max_leaves=None,\n",
       "                                    min_child_weight=None, missing=nan,\n",
       "                                    monotone_constraints=None, n_estimators=100,\n",
       "                                    n_jobs=None, num_parallel_tree=None,\n",
       "                                    predictor=None, random_state=None, ...),\n",
       "             param_grid={'n_estimators': [10, 20, 50, 100, 500, 1000, 2000]},\n",
       "             verbose=False)"
      ]
     },
     "execution_count": 43,
     "metadata": {},
     "output_type": "execute_result"
    }
   ],
   "source": [
    "parameters = {\n",
    "    'n_estimators' : [10,20,50,100,500,1000,2000]\n",
    "}\n",
    "xgb = GridSearchCV(XGBRegressor(),\n",
    "                        param_grid = parameters,\n",
    "                        cv = 5,\n",
    "                        verbose=False)\n",
    "xgb.fit(X_train, Y_train)"
   ]
  },
  {
   "cell_type": "code",
   "execution_count": 44,
   "metadata": {
    "id": "4TTe5dZ1u1bd",
    "outputId": "6a471584-1641-4568-c864-6e8430c3cc84"
   },
   "outputs": [
    {
     "data": {
      "text/plain": [
       "{'n_estimators': 10}"
      ]
     },
     "execution_count": 44,
     "metadata": {},
     "output_type": "execute_result"
    }
   ],
   "source": [
    "xgb.best_params_"
   ]
  },
  {
   "cell_type": "code",
   "execution_count": 45,
   "metadata": {
    "id": "QZgu1swXu1be"
   },
   "outputs": [
    {
     "data": {
      "text/plain": [
       "XGBRegressor(base_score=0.5, booster='gblinear', callbacks=None,\n",
       "             colsample_bylevel=None, colsample_bynode=None,\n",
       "             colsample_bytree=None, early_stopping_rounds=None,\n",
       "             enable_categorical=False, eval_metric=None, feature_types=None,\n",
       "             gamma=None, gpu_id=-1, grow_policy=None, importance_type=None,\n",
       "             interaction_constraints=None, learning_rate=0.5, max_bin=None,\n",
       "             max_cat_threshold=None, max_cat_to_onehot=None,\n",
       "             max_delta_step=None, max_depth=None, max_leaves=None,\n",
       "             min_child_weight=None, missing=nan, monotone_constraints=None,\n",
       "             n_estimators=10, n_jobs=0, num_parallel_tree=None, predictor=None,\n",
       "             random_state=0, ...)"
      ]
     },
     "execution_count": 45,
     "metadata": {},
     "output_type": "execute_result"
    }
   ],
   "source": [
    "best_xgb = XGBRegressor(n_estimators = 10, booster=\"gblinear\")\n",
    "best_xgb.fit(X_train, Y_train)"
   ]
  },
  {
   "cell_type": "code",
   "execution_count": 46,
   "metadata": {
    "id": "mXnoPtcwu1bf",
    "outputId": "5fcca9b2-23d9-48c4-866f-1f95844d435c"
   },
   "outputs": [
    {
     "name": "stdout",
     "output_type": "stream",
     "text": [
      "R²: 0.7939862486653753\n",
      "MAE: 135.71283122434846\n",
      "RMSE: 372.6820871380819\n"
     ]
    }
   ],
   "source": [
    "xgb_pred = best_xgb.predict(X_test)\n",
    "\n",
    "print(\"R²:\", r2_score(Y_test, xgb_pred))\n",
    "print(\"MAE:\", mean_absolute_error(Y_test, xgb_pred))\n",
    "#print(\"MSE:\", mean_squared_error(Y_test, xgb_pred))\n",
    "print(\"RMSE:\", mean_squared_error(Y_test, xgb_pred, squared=False))"
   ]
  },
  {
   "cell_type": "code",
   "execution_count": 47,
   "metadata": {
    "id": "oVgpkP3pu1bg",
    "outputId": "feddd326-0af0-4f01-8d4a-e5bd2b70dd09"
   },
   "outputs": [
    {
     "data": {
      "text/plain": [
       "<property at 0x1f4f2879ea0>"
      ]
     },
     "execution_count": 47,
     "metadata": {},
     "output_type": "execute_result"
    }
   ],
   "source": [
    "XGBRegressor.feature_importances_"
   ]
  },
  {
   "cell_type": "markdown",
   "metadata": {
    "id": "TqhXRMVDu1bh"
   },
   "source": [
    "## SHAP values"
   ]
  },
  {
   "cell_type": "raw",
   "metadata": {
    "id": "qJRPKl7Vu1bi",
    "outputId": "6cedf40e-9328-47a6-f497-9905acf7a74a"
   },
   "source": [
    "row_to_show = 5\n",
    "data_for_prediction = X_test.iloc[row_to_show]  # use 1 row of data here. Could use multiple rows if desired\n",
    "data_for_prediction_array = data_for_prediction.values.reshape(1, -1)\n",
    "\n",
    "best_rfr.predict(data_for_prediction_array)"
   ]
  },
  {
   "cell_type": "raw",
   "metadata": {
    "id": "61PK_5Rxu1bj"
   },
   "source": [
    "import shap"
   ]
  },
  {
   "cell_type": "raw",
   "metadata": {
    "id": "oVPBRUjSu1bj"
   },
   "source": [
    "explainer = shap.TreeExplainer(best_rfr)\n",
    "# Calculate Shap values\n",
    "shap_values = explainer.shap_values(X_train)"
   ]
  },
  {
   "cell_type": "raw",
   "metadata": {
    "id": "GSd0zFs-u1bk"
   },
   "source": [
    "i = int(18)\n",
    "shap.force_plot(explainer.expected_value, shap_values[i], X_test[i], feature_names = features)"
   ]
  },
  {
   "cell_type": "raw",
   "metadata": {
    "id": "t1gbJjSru1bl",
    "outputId": "decc91f0-30eb-42ec-916b-e8ef392254ec"
   },
   "source": [
    "shap.initjs()\n",
    "shap.force_plot(explainer.expected_value[0], shap_values[1], data_for_prediction)"
   ]
  },
  {
   "cell_type": "markdown",
   "metadata": {},
   "source": [
    "## Random Forest avec nouveau DataFrame"
   ]
  },
  {
   "cell_type": "code",
   "execution_count": 48,
   "metadata": {},
   "outputs": [],
   "source": [
    "X_to_scale = df_big.drop(['TotalGHGEmissions', 'BuildingType', 'PrimaryPropertyType', 'Neighborhood'], axis=1)"
   ]
  },
  {
   "cell_type": "code",
   "execution_count": 49,
   "metadata": {},
   "outputs": [
    {
     "data": {
      "text/html": [
       "<div>\n",
       "<style scoped>\n",
       "    .dataframe tbody tr th:only-of-type {\n",
       "        vertical-align: middle;\n",
       "    }\n",
       "\n",
       "    .dataframe tbody tr th {\n",
       "        vertical-align: top;\n",
       "    }\n",
       "\n",
       "    .dataframe thead th {\n",
       "        text-align: right;\n",
       "    }\n",
       "</style>\n",
       "<table border=\"1\" class=\"dataframe\">\n",
       "  <thead>\n",
       "    <tr style=\"text-align: right;\">\n",
       "      <th></th>\n",
       "      <th>CouncilDistrictCode</th>\n",
       "      <th>NumberofFloors</th>\n",
       "      <th>PropertyGFATotal</th>\n",
       "      <th>PropertyGFAParking</th>\n",
       "      <th>ENERGYSTARScore</th>\n",
       "      <th>SteamUse(kBtu)</th>\n",
       "      <th>BuildingAge</th>\n",
       "    </tr>\n",
       "  </thead>\n",
       "  <tbody>\n",
       "    <tr>\n",
       "      <th>0</th>\n",
       "      <td>7.0</td>\n",
       "      <td>12.0</td>\n",
       "      <td>88434</td>\n",
       "      <td>0.0</td>\n",
       "      <td>60.0</td>\n",
       "      <td>2003882.00</td>\n",
       "      <td>89.0</td>\n",
       "    </tr>\n",
       "    <tr>\n",
       "      <th>1</th>\n",
       "      <td>7.0</td>\n",
       "      <td>11.0</td>\n",
       "      <td>103566</td>\n",
       "      <td>15064.0</td>\n",
       "      <td>61.0</td>\n",
       "      <td>0.00</td>\n",
       "      <td>20.0</td>\n",
       "    </tr>\n",
       "    <tr>\n",
       "      <th>2</th>\n",
       "      <td>7.0</td>\n",
       "      <td>41.0</td>\n",
       "      <td>956110</td>\n",
       "      <td>196718.0</td>\n",
       "      <td>43.0</td>\n",
       "      <td>21566554.00</td>\n",
       "      <td>47.0</td>\n",
       "    </tr>\n",
       "    <tr>\n",
       "      <th>3</th>\n",
       "      <td>7.0</td>\n",
       "      <td>10.0</td>\n",
       "      <td>61320</td>\n",
       "      <td>0.0</td>\n",
       "      <td>56.0</td>\n",
       "      <td>2214446.25</td>\n",
       "      <td>90.0</td>\n",
       "    </tr>\n",
       "    <tr>\n",
       "      <th>4</th>\n",
       "      <td>7.0</td>\n",
       "      <td>18.0</td>\n",
       "      <td>175580</td>\n",
       "      <td>62000.0</td>\n",
       "      <td>75.0</td>\n",
       "      <td>0.00</td>\n",
       "      <td>36.0</td>\n",
       "    </tr>\n",
       "    <tr>\n",
       "      <th>...</th>\n",
       "      <td>...</td>\n",
       "      <td>...</td>\n",
       "      <td>...</td>\n",
       "      <td>...</td>\n",
       "      <td>...</td>\n",
       "      <td>...</td>\n",
       "      <td>...</td>\n",
       "    </tr>\n",
       "    <tr>\n",
       "      <th>3563</th>\n",
       "      <td>1.0</td>\n",
       "      <td>45.0</td>\n",
       "      <td>1400666</td>\n",
       "      <td>338415.0</td>\n",
       "      <td>76.0</td>\n",
       "      <td>0.00</td>\n",
       "      <td>1.0</td>\n",
       "    </tr>\n",
       "    <tr>\n",
       "      <th>3565</th>\n",
       "      <td>1.0</td>\n",
       "      <td>3.0</td>\n",
       "      <td>162182</td>\n",
       "      <td>0.0</td>\n",
       "      <td>81.0</td>\n",
       "      <td>0.00</td>\n",
       "      <td>1.0</td>\n",
       "    </tr>\n",
       "    <tr>\n",
       "      <th>3567</th>\n",
       "      <td>1.0</td>\n",
       "      <td>12.0</td>\n",
       "      <td>254218</td>\n",
       "      <td>58820.0</td>\n",
       "      <td>85.0</td>\n",
       "      <td>0.00</td>\n",
       "      <td>1.0</td>\n",
       "    </tr>\n",
       "    <tr>\n",
       "      <th>3577</th>\n",
       "      <td>1.0</td>\n",
       "      <td>3.0</td>\n",
       "      <td>71461</td>\n",
       "      <td>10032.0</td>\n",
       "      <td>96.0</td>\n",
       "      <td>0.00</td>\n",
       "      <td>1.0</td>\n",
       "    </tr>\n",
       "    <tr>\n",
       "      <th>3578</th>\n",
       "      <td>1.0</td>\n",
       "      <td>3.0</td>\n",
       "      <td>78232</td>\n",
       "      <td>10606.0</td>\n",
       "      <td>57.0</td>\n",
       "      <td>0.00</td>\n",
       "      <td>1.0</td>\n",
       "    </tr>\n",
       "  </tbody>\n",
       "</table>\n",
       "<p>6537 rows × 7 columns</p>\n",
       "</div>"
      ],
      "text/plain": [
       "      CouncilDistrictCode  NumberofFloors  PropertyGFATotal  \\\n",
       "0                     7.0            12.0             88434   \n",
       "1                     7.0            11.0            103566   \n",
       "2                     7.0            41.0            956110   \n",
       "3                     7.0            10.0             61320   \n",
       "4                     7.0            18.0            175580   \n",
       "...                   ...             ...               ...   \n",
       "3563                  1.0            45.0           1400666   \n",
       "3565                  1.0             3.0            162182   \n",
       "3567                  1.0            12.0            254218   \n",
       "3577                  1.0             3.0             71461   \n",
       "3578                  1.0             3.0             78232   \n",
       "\n",
       "      PropertyGFAParking  ENERGYSTARScore  SteamUse(kBtu)  BuildingAge  \n",
       "0                    0.0             60.0      2003882.00         89.0  \n",
       "1                15064.0             61.0            0.00         20.0  \n",
       "2               196718.0             43.0     21566554.00         47.0  \n",
       "3                    0.0             56.0      2214446.25         90.0  \n",
       "4                62000.0             75.0            0.00         36.0  \n",
       "...                  ...              ...             ...          ...  \n",
       "3563            338415.0             76.0            0.00          1.0  \n",
       "3565                 0.0             81.0            0.00          1.0  \n",
       "3567             58820.0             85.0            0.00          1.0  \n",
       "3577             10032.0             96.0            0.00          1.0  \n",
       "3578             10606.0             57.0            0.00          1.0  \n",
       "\n",
       "[6537 rows x 7 columns]"
      ]
     },
     "execution_count": 49,
     "metadata": {},
     "output_type": "execute_result"
    }
   ],
   "source": [
    "X_to_scale"
   ]
  },
  {
   "cell_type": "markdown",
   "metadata": {},
   "source": [
    "#### Nomnre de NaN dans le DataFrame et \"ENERGYSTARScore\""
   ]
  },
  {
   "cell_type": "code",
   "execution_count": 50,
   "metadata": {},
   "outputs": [
    {
     "name": "stdout",
     "output_type": "stream",
     "text": [
      "Il y a actuellement CouncilDistrictCode       4\n",
      "NumberofFloors           15\n",
      "PropertyGFATotal          0\n",
      "PropertyGFAParking       66\n",
      "ENERGYSTARScore        2239\n",
      "SteamUse(kBtu)         1520\n",
      "BuildingAge               1\n",
      "dtype: int64 valeurs NaN dans le DataFrame entier\n"
     ]
    }
   ],
   "source": [
    "print(f'Il y a actuellement {X_to_scale.isna().sum()} valeurs NaN dans le DataFrame entier')"
   ]
  },
  {
   "cell_type": "markdown",
   "metadata": {},
   "source": [
    "Finalement, on remarque que le jeu de données de l'année 2017 est remplie de données manquante. Nous allons nous en séparer."
   ]
  },
  {
   "cell_type": "code",
   "execution_count": 51,
   "metadata": {},
   "outputs": [
    {
     "name": "stdout",
     "output_type": "stream",
     "text": [
      "Il y a actuellement 2239 valeurs NaN dans ENERGYSTARScore\n"
     ]
    }
   ],
   "source": [
    "print(f'Il y a actuellement {X_to_scale.isna().sum()[4]} valeurs NaN dans ENERGYSTARScore')"
   ]
  },
  {
   "cell_type": "markdown",
   "metadata": {},
   "source": [
    "### Suppression de 2017 :"
   ]
  },
  {
   "cell_type": "code",
   "execution_count": 52,
   "metadata": {},
   "outputs": [],
   "source": [
    "new_df = pd.concat([df,df_2015_cleaned,df_2019_cleaned], axis = 0)"
   ]
  },
  {
   "cell_type": "markdown",
   "metadata": {},
   "source": [
    "#### Vérif valeurs nulles"
   ]
  },
  {
   "cell_type": "code",
   "execution_count": 53,
   "metadata": {},
   "outputs": [
    {
     "name": "stdout",
     "output_type": "stream",
     "text": [
      "Il y a actuellement BuildingType              0\n",
      "PrimaryPropertyType       0\n",
      "CouncilDistrictCode       4\n",
      "Neighborhood              0\n",
      "NumberofFloors            8\n",
      "PropertyGFATotal          0\n",
      "PropertyGFAParking        0\n",
      "ENERGYSTARScore        1665\n",
      "SteamUse(kBtu)            0\n",
      "TotalGHGEmissions         0\n",
      "BuildingAge               0\n",
      "dtype: int64 valeurs NaN dans le DataFrame entier\n"
     ]
    }
   ],
   "source": [
    "print(f'Il y a actuellement {new_df.isna().sum()} valeurs NaN dans le DataFrame entier')"
   ]
  },
  {
   "cell_type": "markdown",
   "metadata": {},
   "source": [
    "Nous allons supprimer les lignes manquantes de **CouncilDistrictCode**, **NumberofFloors**, et utiliser le **KNNImputer** pour compléter celle d'ENERGYSTARScore"
   ]
  },
  {
   "cell_type": "markdown",
   "metadata": {},
   "source": [
    "### Suppression lignes vide, et utilisation KNNImputer"
   ]
  },
  {
   "cell_type": "code",
   "execution_count": 54,
   "metadata": {},
   "outputs": [],
   "source": [
    "new_df.dropna(subset=['CouncilDistrictCode','NumberofFloors'], inplace=True)"
   ]
  },
  {
   "cell_type": "code",
   "execution_count": 55,
   "metadata": {},
   "outputs": [],
   "source": [
    "X_to_scale = new_df.drop(['TotalGHGEmissions', 'BuildingType', 'PrimaryPropertyType', 'Neighborhood'], axis=1)"
   ]
  },
  {
   "cell_type": "code",
   "execution_count": 56,
   "metadata": {},
   "outputs": [],
   "source": [
    "imputer = KNNImputer(n_neighbors=5)\n",
    "\n",
    "energystar = X_to_scale.values\n",
    "new_X_to_scale = pd.DataFrame(imputer.fit_transform(energystar), columns = X_to_scale.columns)"
   ]
  },
  {
   "cell_type": "markdown",
   "metadata": {},
   "source": [
    "#### Encoding avant le scaling"
   ]
  },
  {
   "cell_type": "code",
   "execution_count": 57,
   "metadata": {},
   "outputs": [],
   "source": [
    "to_scale = new_X_to_scale.values"
   ]
  },
  {
   "cell_type": "code",
   "execution_count": 58,
   "metadata": {},
   "outputs": [],
   "source": [
    "X_to_encode = new_df.drop(['TotalGHGEmissions',  'CouncilDistrictCode', 'NumberofFloors', 'PropertyGFATotal',\n",
    "                       'PropertyGFAParking', 'ENERGYSTARScore', 'SteamUse(kBtu)', 'BuildingAge'], axis = 1)"
   ]
  },
  {
   "cell_type": "code",
   "execution_count": 59,
   "metadata": {},
   "outputs": [],
   "source": [
    "y = new_df['TotalGHGEmissions']"
   ]
  },
  {
   "cell_type": "markdown",
   "metadata": {},
   "source": [
    "### Scaling"
   ]
  },
  {
   "cell_type": "code",
   "execution_count": 60,
   "metadata": {},
   "outputs": [],
   "source": [
    "rs = MinMaxScaler()\n",
    "rs = rs.fit(to_scale)\n",
    "to_scale = rs.transform(to_scale)"
   ]
  },
  {
   "cell_type": "code",
   "execution_count": 61,
   "metadata": {},
   "outputs": [
    {
     "data": {
      "text/html": [
       "<div>\n",
       "<style scoped>\n",
       "    .dataframe tbody tr th:only-of-type {\n",
       "        vertical-align: middle;\n",
       "    }\n",
       "\n",
       "    .dataframe tbody tr th {\n",
       "        vertical-align: top;\n",
       "    }\n",
       "\n",
       "    .dataframe thead th {\n",
       "        text-align: right;\n",
       "    }\n",
       "</style>\n",
       "<table border=\"1\" class=\"dataframe\">\n",
       "  <thead>\n",
       "    <tr style=\"text-align: right;\">\n",
       "      <th></th>\n",
       "      <th>CouncilDistrictCode</th>\n",
       "      <th>NumberofFloors</th>\n",
       "      <th>PropertyGFATotal</th>\n",
       "      <th>PropertyGFAParking</th>\n",
       "      <th>ENERGYSTARScore</th>\n",
       "      <th>SteamUse(kBtu)</th>\n",
       "      <th>BuildingAge</th>\n",
       "    </tr>\n",
       "  </thead>\n",
       "  <tbody>\n",
       "    <tr>\n",
       "      <th>0</th>\n",
       "      <td>1.0</td>\n",
       "      <td>0.121212</td>\n",
       "      <td>0.008288</td>\n",
       "      <td>0.000004</td>\n",
       "      <td>0.595960</td>\n",
       "      <td>0.000343</td>\n",
       "      <td>0.721311</td>\n",
       "    </tr>\n",
       "    <tr>\n",
       "      <th>1</th>\n",
       "      <td>1.0</td>\n",
       "      <td>0.111111</td>\n",
       "      <td>0.009913</td>\n",
       "      <td>0.021939</td>\n",
       "      <td>0.606061</td>\n",
       "      <td>0.000000</td>\n",
       "      <td>0.155738</td>\n",
       "    </tr>\n",
       "    <tr>\n",
       "      <th>2</th>\n",
       "      <td>1.0</td>\n",
       "      <td>0.414141</td>\n",
       "      <td>0.101497</td>\n",
       "      <td>0.286451</td>\n",
       "      <td>0.424242</td>\n",
       "      <td>0.003689</td>\n",
       "      <td>0.377049</td>\n",
       "    </tr>\n",
       "    <tr>\n",
       "      <th>3</th>\n",
       "      <td>1.0</td>\n",
       "      <td>0.101010</td>\n",
       "      <td>0.005375</td>\n",
       "      <td>0.000004</td>\n",
       "      <td>0.555556</td>\n",
       "      <td>0.000379</td>\n",
       "      <td>0.729508</td>\n",
       "    </tr>\n",
       "    <tr>\n",
       "      <th>4</th>\n",
       "      <td>1.0</td>\n",
       "      <td>0.181818</td>\n",
       "      <td>0.017649</td>\n",
       "      <td>0.090284</td>\n",
       "      <td>0.747475</td>\n",
       "      <td>0.000000</td>\n",
       "      <td>0.286885</td>\n",
       "    </tr>\n",
       "    <tr>\n",
       "      <th>...</th>\n",
       "      <td>...</td>\n",
       "      <td>...</td>\n",
       "      <td>...</td>\n",
       "      <td>...</td>\n",
       "      <td>...</td>\n",
       "      <td>...</td>\n",
       "      <td>...</td>\n",
       "    </tr>\n",
       "    <tr>\n",
       "      <th>4879</th>\n",
       "      <td>0.0</td>\n",
       "      <td>0.454545</td>\n",
       "      <td>0.149253</td>\n",
       "      <td>0.492780</td>\n",
       "      <td>0.757576</td>\n",
       "      <td>0.000000</td>\n",
       "      <td>0.000000</td>\n",
       "    </tr>\n",
       "    <tr>\n",
       "      <th>4880</th>\n",
       "      <td>0.0</td>\n",
       "      <td>0.030303</td>\n",
       "      <td>0.016210</td>\n",
       "      <td>0.000004</td>\n",
       "      <td>0.808081</td>\n",
       "      <td>0.000000</td>\n",
       "      <td>0.000000</td>\n",
       "    </tr>\n",
       "    <tr>\n",
       "      <th>4881</th>\n",
       "      <td>0.0</td>\n",
       "      <td>0.121212</td>\n",
       "      <td>0.026097</td>\n",
       "      <td>0.085654</td>\n",
       "      <td>0.848485</td>\n",
       "      <td>0.000000</td>\n",
       "      <td>0.000000</td>\n",
       "    </tr>\n",
       "    <tr>\n",
       "      <th>4882</th>\n",
       "      <td>0.0</td>\n",
       "      <td>0.030303</td>\n",
       "      <td>0.006464</td>\n",
       "      <td>0.014612</td>\n",
       "      <td>0.959596</td>\n",
       "      <td>0.000000</td>\n",
       "      <td>0.000000</td>\n",
       "    </tr>\n",
       "    <tr>\n",
       "      <th>4883</th>\n",
       "      <td>0.0</td>\n",
       "      <td>0.030303</td>\n",
       "      <td>0.007192</td>\n",
       "      <td>0.015448</td>\n",
       "      <td>0.565657</td>\n",
       "      <td>0.000000</td>\n",
       "      <td>0.000000</td>\n",
       "    </tr>\n",
       "  </tbody>\n",
       "</table>\n",
       "<p>4884 rows × 7 columns</p>\n",
       "</div>"
      ],
      "text/plain": [
       "      CouncilDistrictCode  NumberofFloors  PropertyGFATotal  \\\n",
       "0                     1.0        0.121212          0.008288   \n",
       "1                     1.0        0.111111          0.009913   \n",
       "2                     1.0        0.414141          0.101497   \n",
       "3                     1.0        0.101010          0.005375   \n",
       "4                     1.0        0.181818          0.017649   \n",
       "...                   ...             ...               ...   \n",
       "4879                  0.0        0.454545          0.149253   \n",
       "4880                  0.0        0.030303          0.016210   \n",
       "4881                  0.0        0.121212          0.026097   \n",
       "4882                  0.0        0.030303          0.006464   \n",
       "4883                  0.0        0.030303          0.007192   \n",
       "\n",
       "      PropertyGFAParking  ENERGYSTARScore  SteamUse(kBtu)  BuildingAge  \n",
       "0               0.000004         0.595960        0.000343     0.721311  \n",
       "1               0.021939         0.606061        0.000000     0.155738  \n",
       "2               0.286451         0.424242        0.003689     0.377049  \n",
       "3               0.000004         0.555556        0.000379     0.729508  \n",
       "4               0.090284         0.747475        0.000000     0.286885  \n",
       "...                  ...              ...             ...          ...  \n",
       "4879            0.492780         0.757576        0.000000     0.000000  \n",
       "4880            0.000004         0.808081        0.000000     0.000000  \n",
       "4881            0.085654         0.848485        0.000000     0.000000  \n",
       "4882            0.014612         0.959596        0.000000     0.000000  \n",
       "4883            0.015448         0.565657        0.000000     0.000000  \n",
       "\n",
       "[4884 rows x 7 columns]"
      ]
     },
     "execution_count": 61,
     "metadata": {},
     "output_type": "execute_result"
    }
   ],
   "source": [
    "X_scaled = pd.DataFrame(to_scale, columns = X_to_scale.columns)\n",
    "X_scaled"
   ]
  },
  {
   "cell_type": "markdown",
   "metadata": {},
   "source": [
    "#### Encoding"
   ]
  },
  {
   "cell_type": "code",
   "execution_count": 62,
   "metadata": {},
   "outputs": [
    {
     "data": {
      "text/html": [
       "<div>\n",
       "<style scoped>\n",
       "    .dataframe tbody tr th:only-of-type {\n",
       "        vertical-align: middle;\n",
       "    }\n",
       "\n",
       "    .dataframe tbody tr th {\n",
       "        vertical-align: top;\n",
       "    }\n",
       "\n",
       "    .dataframe thead th {\n",
       "        text-align: right;\n",
       "    }\n",
       "</style>\n",
       "<table border=\"1\" class=\"dataframe\">\n",
       "  <thead>\n",
       "    <tr style=\"text-align: right;\">\n",
       "      <th></th>\n",
       "      <th>index</th>\n",
       "      <th>x0_Campus</th>\n",
       "      <th>x0_NonResidential</th>\n",
       "      <th>x0_Nonresidential COS</th>\n",
       "      <th>x0_SPS-District K-12</th>\n",
       "      <th>x1_Adult Education</th>\n",
       "      <th>x1_Automobile Dealership</th>\n",
       "      <th>x1_Bank Branch</th>\n",
       "      <th>x1_College/University</th>\n",
       "      <th>x1_Convention Center</th>\n",
       "      <th>...</th>\n",
       "      <th>x2_NORTHWEST</th>\n",
       "      <th>x2_SHARED: BALLARD &amp;AMP; LAKE UNION</th>\n",
       "      <th>x2_SHARED: BALLARD &amp;AMP; NORTHWEST</th>\n",
       "      <th>x2_SHARED: CENTRAL &amp;AMP; EAST</th>\n",
       "      <th>x2_SHARED: GREATER DUWAMISH &amp;AMP; DELRIDGE NEIGHBORHOODS</th>\n",
       "      <th>x2_SHARED: LAKE UNION &amp;AMP; NORTHWEST</th>\n",
       "      <th>x2_SHARED: NORTH &amp;AMP; NORTHWEST</th>\n",
       "      <th>x2_SOUTHEAST</th>\n",
       "      <th>x2_SOUTHWEST</th>\n",
       "      <th>x2_WATER</th>\n",
       "    </tr>\n",
       "  </thead>\n",
       "  <tbody>\n",
       "    <tr>\n",
       "      <th>0</th>\n",
       "      <td>0</td>\n",
       "      <td>0.0</td>\n",
       "      <td>1.0</td>\n",
       "      <td>0.0</td>\n",
       "      <td>0.0</td>\n",
       "      <td>0.0</td>\n",
       "      <td>0.0</td>\n",
       "      <td>0.0</td>\n",
       "      <td>0.0</td>\n",
       "      <td>0.0</td>\n",
       "      <td>...</td>\n",
       "      <td>0.0</td>\n",
       "      <td>0.0</td>\n",
       "      <td>0.0</td>\n",
       "      <td>0.0</td>\n",
       "      <td>0.0</td>\n",
       "      <td>0.0</td>\n",
       "      <td>0.0</td>\n",
       "      <td>0.0</td>\n",
       "      <td>0.0</td>\n",
       "      <td>0.0</td>\n",
       "    </tr>\n",
       "    <tr>\n",
       "      <th>1</th>\n",
       "      <td>1</td>\n",
       "      <td>0.0</td>\n",
       "      <td>1.0</td>\n",
       "      <td>0.0</td>\n",
       "      <td>0.0</td>\n",
       "      <td>0.0</td>\n",
       "      <td>0.0</td>\n",
       "      <td>0.0</td>\n",
       "      <td>0.0</td>\n",
       "      <td>0.0</td>\n",
       "      <td>...</td>\n",
       "      <td>0.0</td>\n",
       "      <td>0.0</td>\n",
       "      <td>0.0</td>\n",
       "      <td>0.0</td>\n",
       "      <td>0.0</td>\n",
       "      <td>0.0</td>\n",
       "      <td>0.0</td>\n",
       "      <td>0.0</td>\n",
       "      <td>0.0</td>\n",
       "      <td>0.0</td>\n",
       "    </tr>\n",
       "    <tr>\n",
       "      <th>2</th>\n",
       "      <td>2</td>\n",
       "      <td>0.0</td>\n",
       "      <td>1.0</td>\n",
       "      <td>0.0</td>\n",
       "      <td>0.0</td>\n",
       "      <td>0.0</td>\n",
       "      <td>0.0</td>\n",
       "      <td>0.0</td>\n",
       "      <td>0.0</td>\n",
       "      <td>0.0</td>\n",
       "      <td>...</td>\n",
       "      <td>0.0</td>\n",
       "      <td>0.0</td>\n",
       "      <td>0.0</td>\n",
       "      <td>0.0</td>\n",
       "      <td>0.0</td>\n",
       "      <td>0.0</td>\n",
       "      <td>0.0</td>\n",
       "      <td>0.0</td>\n",
       "      <td>0.0</td>\n",
       "      <td>0.0</td>\n",
       "    </tr>\n",
       "    <tr>\n",
       "      <th>3</th>\n",
       "      <td>3</td>\n",
       "      <td>0.0</td>\n",
       "      <td>1.0</td>\n",
       "      <td>0.0</td>\n",
       "      <td>0.0</td>\n",
       "      <td>0.0</td>\n",
       "      <td>0.0</td>\n",
       "      <td>0.0</td>\n",
       "      <td>0.0</td>\n",
       "      <td>0.0</td>\n",
       "      <td>...</td>\n",
       "      <td>0.0</td>\n",
       "      <td>0.0</td>\n",
       "      <td>0.0</td>\n",
       "      <td>0.0</td>\n",
       "      <td>0.0</td>\n",
       "      <td>0.0</td>\n",
       "      <td>0.0</td>\n",
       "      <td>0.0</td>\n",
       "      <td>0.0</td>\n",
       "      <td>0.0</td>\n",
       "    </tr>\n",
       "    <tr>\n",
       "      <th>4</th>\n",
       "      <td>4</td>\n",
       "      <td>0.0</td>\n",
       "      <td>1.0</td>\n",
       "      <td>0.0</td>\n",
       "      <td>0.0</td>\n",
       "      <td>0.0</td>\n",
       "      <td>0.0</td>\n",
       "      <td>0.0</td>\n",
       "      <td>0.0</td>\n",
       "      <td>0.0</td>\n",
       "      <td>...</td>\n",
       "      <td>0.0</td>\n",
       "      <td>0.0</td>\n",
       "      <td>0.0</td>\n",
       "      <td>0.0</td>\n",
       "      <td>0.0</td>\n",
       "      <td>0.0</td>\n",
       "      <td>0.0</td>\n",
       "      <td>0.0</td>\n",
       "      <td>0.0</td>\n",
       "      <td>0.0</td>\n",
       "    </tr>\n",
       "    <tr>\n",
       "      <th>...</th>\n",
       "      <td>...</td>\n",
       "      <td>...</td>\n",
       "      <td>...</td>\n",
       "      <td>...</td>\n",
       "      <td>...</td>\n",
       "      <td>...</td>\n",
       "      <td>...</td>\n",
       "      <td>...</td>\n",
       "      <td>...</td>\n",
       "      <td>...</td>\n",
       "      <td>...</td>\n",
       "      <td>...</td>\n",
       "      <td>...</td>\n",
       "      <td>...</td>\n",
       "      <td>...</td>\n",
       "      <td>...</td>\n",
       "      <td>...</td>\n",
       "      <td>...</td>\n",
       "      <td>...</td>\n",
       "      <td>...</td>\n",
       "      <td>...</td>\n",
       "    </tr>\n",
       "    <tr>\n",
       "      <th>4879</th>\n",
       "      <td>3563</td>\n",
       "      <td>0.0</td>\n",
       "      <td>1.0</td>\n",
       "      <td>0.0</td>\n",
       "      <td>0.0</td>\n",
       "      <td>0.0</td>\n",
       "      <td>0.0</td>\n",
       "      <td>0.0</td>\n",
       "      <td>0.0</td>\n",
       "      <td>0.0</td>\n",
       "      <td>...</td>\n",
       "      <td>0.0</td>\n",
       "      <td>0.0</td>\n",
       "      <td>0.0</td>\n",
       "      <td>0.0</td>\n",
       "      <td>0.0</td>\n",
       "      <td>0.0</td>\n",
       "      <td>0.0</td>\n",
       "      <td>0.0</td>\n",
       "      <td>0.0</td>\n",
       "      <td>0.0</td>\n",
       "    </tr>\n",
       "    <tr>\n",
       "      <th>4880</th>\n",
       "      <td>3565</td>\n",
       "      <td>0.0</td>\n",
       "      <td>0.0</td>\n",
       "      <td>0.0</td>\n",
       "      <td>1.0</td>\n",
       "      <td>0.0</td>\n",
       "      <td>0.0</td>\n",
       "      <td>0.0</td>\n",
       "      <td>0.0</td>\n",
       "      <td>0.0</td>\n",
       "      <td>...</td>\n",
       "      <td>1.0</td>\n",
       "      <td>0.0</td>\n",
       "      <td>0.0</td>\n",
       "      <td>0.0</td>\n",
       "      <td>0.0</td>\n",
       "      <td>0.0</td>\n",
       "      <td>0.0</td>\n",
       "      <td>0.0</td>\n",
       "      <td>0.0</td>\n",
       "      <td>0.0</td>\n",
       "    </tr>\n",
       "    <tr>\n",
       "      <th>4881</th>\n",
       "      <td>3567</td>\n",
       "      <td>0.0</td>\n",
       "      <td>1.0</td>\n",
       "      <td>0.0</td>\n",
       "      <td>0.0</td>\n",
       "      <td>0.0</td>\n",
       "      <td>0.0</td>\n",
       "      <td>0.0</td>\n",
       "      <td>0.0</td>\n",
       "      <td>0.0</td>\n",
       "      <td>...</td>\n",
       "      <td>0.0</td>\n",
       "      <td>0.0</td>\n",
       "      <td>0.0</td>\n",
       "      <td>0.0</td>\n",
       "      <td>0.0</td>\n",
       "      <td>0.0</td>\n",
       "      <td>0.0</td>\n",
       "      <td>0.0</td>\n",
       "      <td>0.0</td>\n",
       "      <td>0.0</td>\n",
       "    </tr>\n",
       "    <tr>\n",
       "      <th>4882</th>\n",
       "      <td>3577</td>\n",
       "      <td>0.0</td>\n",
       "      <td>1.0</td>\n",
       "      <td>0.0</td>\n",
       "      <td>0.0</td>\n",
       "      <td>0.0</td>\n",
       "      <td>0.0</td>\n",
       "      <td>0.0</td>\n",
       "      <td>0.0</td>\n",
       "      <td>0.0</td>\n",
       "      <td>...</td>\n",
       "      <td>0.0</td>\n",
       "      <td>0.0</td>\n",
       "      <td>0.0</td>\n",
       "      <td>0.0</td>\n",
       "      <td>0.0</td>\n",
       "      <td>0.0</td>\n",
       "      <td>0.0</td>\n",
       "      <td>0.0</td>\n",
       "      <td>0.0</td>\n",
       "      <td>0.0</td>\n",
       "    </tr>\n",
       "    <tr>\n",
       "      <th>4883</th>\n",
       "      <td>3578</td>\n",
       "      <td>0.0</td>\n",
       "      <td>1.0</td>\n",
       "      <td>0.0</td>\n",
       "      <td>0.0</td>\n",
       "      <td>0.0</td>\n",
       "      <td>0.0</td>\n",
       "      <td>0.0</td>\n",
       "      <td>0.0</td>\n",
       "      <td>0.0</td>\n",
       "      <td>...</td>\n",
       "      <td>0.0</td>\n",
       "      <td>0.0</td>\n",
       "      <td>0.0</td>\n",
       "      <td>0.0</td>\n",
       "      <td>0.0</td>\n",
       "      <td>0.0</td>\n",
       "      <td>0.0</td>\n",
       "      <td>0.0</td>\n",
       "      <td>1.0</td>\n",
       "      <td>0.0</td>\n",
       "    </tr>\n",
       "  </tbody>\n",
       "</table>\n",
       "<p>4884 rows × 97 columns</p>\n",
       "</div>"
      ],
      "text/plain": [
       "      index  x0_Campus  x0_NonResidential  x0_Nonresidential COS  \\\n",
       "0         0        0.0                1.0                    0.0   \n",
       "1         1        0.0                1.0                    0.0   \n",
       "2         2        0.0                1.0                    0.0   \n",
       "3         3        0.0                1.0                    0.0   \n",
       "4         4        0.0                1.0                    0.0   \n",
       "...     ...        ...                ...                    ...   \n",
       "4879   3563        0.0                1.0                    0.0   \n",
       "4880   3565        0.0                0.0                    0.0   \n",
       "4881   3567        0.0                1.0                    0.0   \n",
       "4882   3577        0.0                1.0                    0.0   \n",
       "4883   3578        0.0                1.0                    0.0   \n",
       "\n",
       "      x0_SPS-District K-12  x1_Adult Education  x1_Automobile Dealership  \\\n",
       "0                      0.0                 0.0                       0.0   \n",
       "1                      0.0                 0.0                       0.0   \n",
       "2                      0.0                 0.0                       0.0   \n",
       "3                      0.0                 0.0                       0.0   \n",
       "4                      0.0                 0.0                       0.0   \n",
       "...                    ...                 ...                       ...   \n",
       "4879                   0.0                 0.0                       0.0   \n",
       "4880                   1.0                 0.0                       0.0   \n",
       "4881                   0.0                 0.0                       0.0   \n",
       "4882                   0.0                 0.0                       0.0   \n",
       "4883                   0.0                 0.0                       0.0   \n",
       "\n",
       "      x1_Bank Branch  x1_College/University  x1_Convention Center  ...  \\\n",
       "0                0.0                    0.0                   0.0  ...   \n",
       "1                0.0                    0.0                   0.0  ...   \n",
       "2                0.0                    0.0                   0.0  ...   \n",
       "3                0.0                    0.0                   0.0  ...   \n",
       "4                0.0                    0.0                   0.0  ...   \n",
       "...              ...                    ...                   ...  ...   \n",
       "4879             0.0                    0.0                   0.0  ...   \n",
       "4880             0.0                    0.0                   0.0  ...   \n",
       "4881             0.0                    0.0                   0.0  ...   \n",
       "4882             0.0                    0.0                   0.0  ...   \n",
       "4883             0.0                    0.0                   0.0  ...   \n",
       "\n",
       "      x2_NORTHWEST  x2_SHARED: BALLARD &AMP; LAKE UNION  \\\n",
       "0              0.0                                  0.0   \n",
       "1              0.0                                  0.0   \n",
       "2              0.0                                  0.0   \n",
       "3              0.0                                  0.0   \n",
       "4              0.0                                  0.0   \n",
       "...            ...                                  ...   \n",
       "4879           0.0                                  0.0   \n",
       "4880           1.0                                  0.0   \n",
       "4881           0.0                                  0.0   \n",
       "4882           0.0                                  0.0   \n",
       "4883           0.0                                  0.0   \n",
       "\n",
       "      x2_SHARED: BALLARD &AMP; NORTHWEST  x2_SHARED: CENTRAL &AMP; EAST  \\\n",
       "0                                    0.0                            0.0   \n",
       "1                                    0.0                            0.0   \n",
       "2                                    0.0                            0.0   \n",
       "3                                    0.0                            0.0   \n",
       "4                                    0.0                            0.0   \n",
       "...                                  ...                            ...   \n",
       "4879                                 0.0                            0.0   \n",
       "4880                                 0.0                            0.0   \n",
       "4881                                 0.0                            0.0   \n",
       "4882                                 0.0                            0.0   \n",
       "4883                                 0.0                            0.0   \n",
       "\n",
       "      x2_SHARED: GREATER DUWAMISH &AMP; DELRIDGE NEIGHBORHOODS  \\\n",
       "0                                                   0.0          \n",
       "1                                                   0.0          \n",
       "2                                                   0.0          \n",
       "3                                                   0.0          \n",
       "4                                                   0.0          \n",
       "...                                                 ...          \n",
       "4879                                                0.0          \n",
       "4880                                                0.0          \n",
       "4881                                                0.0          \n",
       "4882                                                0.0          \n",
       "4883                                                0.0          \n",
       "\n",
       "      x2_SHARED: LAKE UNION &AMP; NORTHWEST  x2_SHARED: NORTH &AMP; NORTHWEST  \\\n",
       "0                                       0.0                               0.0   \n",
       "1                                       0.0                               0.0   \n",
       "2                                       0.0                               0.0   \n",
       "3                                       0.0                               0.0   \n",
       "4                                       0.0                               0.0   \n",
       "...                                     ...                               ...   \n",
       "4879                                    0.0                               0.0   \n",
       "4880                                    0.0                               0.0   \n",
       "4881                                    0.0                               0.0   \n",
       "4882                                    0.0                               0.0   \n",
       "4883                                    0.0                               0.0   \n",
       "\n",
       "      x2_SOUTHEAST  x2_SOUTHWEST  x2_WATER  \n",
       "0              0.0           0.0       0.0  \n",
       "1              0.0           0.0       0.0  \n",
       "2              0.0           0.0       0.0  \n",
       "3              0.0           0.0       0.0  \n",
       "4              0.0           0.0       0.0  \n",
       "...            ...           ...       ...  \n",
       "4879           0.0           0.0       0.0  \n",
       "4880           0.0           0.0       0.0  \n",
       "4881           0.0           0.0       0.0  \n",
       "4882           0.0           0.0       0.0  \n",
       "4883           0.0           1.0       0.0  \n",
       "\n",
       "[4884 rows x 97 columns]"
      ]
     },
     "execution_count": 62,
     "metadata": {},
     "output_type": "execute_result"
    }
   ],
   "source": [
    "# OneHotEncoder\n",
    "ohe = OneHotEncoder(sparse=False)\n",
    "OH_cols = pd.DataFrame(ohe.fit_transform(X_to_encode), columns=ohe.get_feature_names())\n",
    "\n",
    "# One-hot encoding removed index; put it back\n",
    "OH_cols.index = X_to_encode.index\n",
    "\n",
    "num_trainset = X_to_encode.drop(columns={'BuildingType', 'PrimaryPropertyType', 'Neighborhood'}, axis = 1)\n",
    "\n",
    "# Add one-hot encoded columns to numerical features\n",
    "X_encoded = pd.concat([num_trainset, OH_cols], axis=1).reset_index()\n",
    "X_encoded"
   ]
  },
  {
   "cell_type": "markdown",
   "metadata": {},
   "source": [
    "### Assemblage des DataFrames"
   ]
  },
  {
   "cell_type": "code",
   "execution_count": 63,
   "metadata": {},
   "outputs": [],
   "source": [
    "X = pd.concat([X_scaled, X_encoded], axis=1)\n",
    "X_train, X_test, Y_train, Y_test = model_selection.train_test_split(X, y,test_size=0.3)"
   ]
  },
  {
   "cell_type": "markdown",
   "metadata": {},
   "source": [
    "## Modélisation"
   ]
  },
  {
   "cell_type": "code",
   "execution_count": 64,
   "metadata": {},
   "outputs": [],
   "source": [
    "results = pd.DataFrame(columns=['Modèle','RMSE','Inference_duration (microsecs)'])"
   ]
  },
  {
   "cell_type": "markdown",
   "metadata": {},
   "source": [
    "### RandomForestRegressor"
   ]
  },
  {
   "cell_type": "markdown",
   "metadata": {},
   "source": [
    "#### Mise en place du GridSearch"
   ]
  },
  {
   "cell_type": "code",
   "execution_count": 65,
   "metadata": {},
   "outputs": [],
   "source": [
    "parameters = {\n",
    "    'n_estimators' : [10,50,100,300,500],\n",
    "    'min_samples_leaf' : [1,3,5,10], \n",
    "    'max_features': ['auto', 'sqrt']\n",
    "}"
   ]
  },
  {
   "cell_type": "markdown",
   "metadata": {},
   "source": [
    "### GridSearch de la mort"
   ]
  },
  {
   "cell_type": "markdown",
   "metadata": {},
   "source": [
    "Lancer ça seulement quand tout fini "
   ]
  },
  {
   "cell_type": "code",
   "execution_count": 66,
   "metadata": {},
   "outputs": [
    {
     "name": "stdout",
     "output_type": "stream",
     "text": [
      "Fitting 5 folds for each of 40 candidates, totalling 200 fits\n"
     ]
    },
    {
     "data": {
      "text/plain": [
       "GridSearchCV(cv=5, estimator=RandomForestRegressor(),\n",
       "             param_grid={'max_features': ['auto', 'sqrt'],\n",
       "                         'min_samples_leaf': [1, 3, 5, 10],\n",
       "                         'n_estimators': [10, 50, 100, 300, 500]},\n",
       "             verbose=True)"
      ]
     },
     "execution_count": 66,
     "metadata": {},
     "output_type": "execute_result"
    }
   ],
   "source": [
    "rfr = GridSearchCV(RandomForestRegressor(), param_grid = parameters, verbose=True, cv=5)\n",
    "rfr.fit(X_train, Y_train)"
   ]
  },
  {
   "cell_type": "markdown",
   "metadata": {},
   "source": [
    "#### Résultat du GridSearch :"
   ]
  },
  {
   "cell_type": "code",
   "execution_count": 67,
   "metadata": {},
   "outputs": [
    {
     "data": {
      "text/plain": [
       "{'max_features': 'auto', 'min_samples_leaf': 1, 'n_estimators': 10}"
      ]
     },
     "execution_count": 67,
     "metadata": {},
     "output_type": "execute_result"
    }
   ],
   "source": [
    "rfr.best_params_"
   ]
  },
  {
   "cell_type": "code",
   "execution_count": 77,
   "metadata": {},
   "outputs": [
    {
     "data": {
      "text/plain": [
       "RandomForestRegressor(n_estimators=10)"
      ]
     },
     "execution_count": 77,
     "metadata": {},
     "output_type": "execute_result"
    }
   ],
   "source": [
    "best_rfr = RandomForestRegressor(max_features=\"auto\", min_samples_leaf=1, n_estimators = 10)\n",
    "best_rfr.fit(X_train, Y_train)"
   ]
  },
  {
   "cell_type": "code",
   "execution_count": 78,
   "metadata": {},
   "outputs": [],
   "source": [
    "y_pred = best_rfr.predict(X_test)"
   ]
  },
  {
   "cell_type": "code",
   "execution_count": 79,
   "metadata": {},
   "outputs": [
    {
     "name": "stdout",
     "output_type": "stream",
     "text": [
      "R²: 0.8666760890605519\n",
      "MAE: 67.66519508867667\n",
      "RMSE: 199.0363599069344\n"
     ]
    }
   ],
   "source": [
    "print(\"R²:\", r2_score(Y_test, y_pred))\n",
    "print(\"MAE:\", mean_absolute_error(Y_test, y_pred))\n",
    "#print(\"MSE:\", mean_squared_error(Y_test, y_pred))\n",
    "print(\"RMSE:\", mean_squared_error(Y_test, y_pred, squared=False))"
   ]
  },
  {
   "cell_type": "markdown",
   "metadata": {},
   "source": [
    "### XGReboost Regressor"
   ]
  },
  {
   "cell_type": "code",
   "execution_count": 71,
   "metadata": {},
   "outputs": [
    {
     "data": {
      "text/plain": [
       "GridSearchCV(cv=5,\n",
       "             estimator=XGBRegressor(base_score=None, booster=None,\n",
       "                                    callbacks=None, colsample_bylevel=None,\n",
       "                                    colsample_bynode=None,\n",
       "                                    colsample_bytree=None,\n",
       "                                    early_stopping_rounds=None,\n",
       "                                    enable_categorical=False, eval_metric=None,\n",
       "                                    feature_types=None, gamma=None, gpu_id=None,\n",
       "                                    grow_policy=None, importance_type=None,\n",
       "                                    interaction_constraints=None,\n",
       "                                    learning_rate=None, max_bin=None,\n",
       "                                    max_cat_threshold=None,\n",
       "                                    max_cat_to_onehot=None, max_delta_step=None,\n",
       "                                    max_depth=None, max_leaves=None,\n",
       "                                    min_child_weight=None, missing=nan,\n",
       "                                    monotone_constraints=None, n_estimators=100,\n",
       "                                    n_jobs=None, num_parallel_tree=None,\n",
       "                                    predictor=None, random_state=None, ...),\n",
       "             param_grid={'n_estimators': [10, 20, 50, 100, 500, 1000, 2000]},\n",
       "             verbose=False)"
      ]
     },
     "execution_count": 71,
     "metadata": {},
     "output_type": "execute_result"
    }
   ],
   "source": [
    "parameters = {\n",
    "    'n_estimators' : [10,20,50,100,500,1000,2000]\n",
    "}\n",
    "xgb = GridSearchCV(XGBRegressor(),\n",
    "                        param_grid = parameters,\n",
    "                        cv = 5,\n",
    "                        verbose=False)\n",
    "xgb.fit(X_train, Y_train)"
   ]
  },
  {
   "cell_type": "markdown",
   "metadata": {},
   "source": [
    "#### Résultat du GridSearch :"
   ]
  },
  {
   "cell_type": "code",
   "execution_count": 72,
   "metadata": {},
   "outputs": [
    {
     "data": {
      "text/plain": [
       "{'n_estimators': 100}"
      ]
     },
     "execution_count": 72,
     "metadata": {},
     "output_type": "execute_result"
    }
   ],
   "source": [
    "xgb.best_params_"
   ]
  },
  {
   "cell_type": "code",
   "execution_count": 75,
   "metadata": {},
   "outputs": [
    {
     "data": {
      "text/plain": [
       "XGBRegressor(base_score=0.5, booster='gblinear', callbacks=None,\n",
       "             colsample_bylevel=None, colsample_bynode=None,\n",
       "             colsample_bytree=None, early_stopping_rounds=None,\n",
       "             enable_categorical=False, eval_metric=None, feature_types=None,\n",
       "             gamma=None, gpu_id=-1, grow_policy=None, importance_type=None,\n",
       "             interaction_constraints=None, learning_rate=0.5, max_bin=None,\n",
       "             max_cat_threshold=None, max_cat_to_onehot=None,\n",
       "             max_delta_step=None, max_depth=None, max_leaves=None,\n",
       "             min_child_weight=None, missing=nan, monotone_constraints=None,\n",
       "             n_estimators=100, n_jobs=0, num_parallel_tree=None, predictor=None,\n",
       "             random_state=0, ...)"
      ]
     },
     "execution_count": 75,
     "metadata": {},
     "output_type": "execute_result"
    }
   ],
   "source": [
    "best_xgb = XGBRegressor(n_estimators = 100, booster=\"gblinear\")\n",
    "best_xgb.fit(X_train, Y_train)"
   ]
  },
  {
   "cell_type": "code",
   "execution_count": 76,
   "metadata": {},
   "outputs": [
    {
     "name": "stdout",
     "output_type": "stream",
     "text": [
      "R²: 0.8264593135953182\n",
      "MAE: 116.82620278959548\n",
      "RMSE: 227.08008780551938\n"
     ]
    }
   ],
   "source": [
    "xgb_pred = best_xgb.predict(X_test)\n",
    "\n",
    "print(\"R²:\", r2_score(Y_test, xgb_pred))\n",
    "print(\"MAE:\", mean_absolute_error(Y_test, xgb_pred))\n",
    "#print(\"MSE:\", mean_squared_error(Y_test, xgb_pred))\n",
    "print(\"RMSE:\", mean_squared_error(Y_test, xgb_pred, squared=False))"
   ]
  }
 ],
 "metadata": {
  "colab": {
   "collapsed_sections": [
    "LL8jnP1tu1ba",
    "TqhXRMVDu1bh"
   ],
   "provenance": []
  },
  "interpreter": {
   "hash": "1d63f421d0b44b8fbe361afa7f3185a3bd9135445dc52a58b64c3a5880331a42"
  },
  "kernelspec": {
   "display_name": "Python 3 (ipykernel)",
   "language": "python",
   "name": "python3"
  },
  "language_info": {
   "codemirror_mode": {
    "name": "ipython",
    "version": 3
   },
   "file_extension": ".py",
   "mimetype": "text/x-python",
   "name": "python",
   "nbconvert_exporter": "python",
   "pygments_lexer": "ipython3",
   "version": "3.9.7"
  }
 },
 "nbformat": 4,
 "nbformat_minor": 1
}
