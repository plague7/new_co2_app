{
 "cells": [
  {
   "cell_type": "markdown",
   "metadata": {
    "id": "4lzSl5ZXu1aJ"
   },
   "source": [
    "D'après une étude VIF, il faudrait supprimer les colonnes ZipCode, Latitude, Longitude"
   ]
  },
  {
   "cell_type": "code",
   "execution_count": 2,
   "metadata": {
    "id": "B4IyoLphu1aa"
   },
   "outputs": [],
   "source": [
    "import pandas as pd\n",
    "import seaborn as sns\n",
    "import matplotlib.pyplot as plt\n",
    "import numpy as np\n",
    "from datetime import datetime\n",
    "\n",
    "from sklearn.impute import KNNImputer\n",
    "from sklearn.preprocessing import StandardScaler\n",
    "from sklearn.preprocessing import RobustScaler\n",
    "from sklearn.preprocessing import MinMaxScaler\n",
    "from sklearn.preprocessing import OneHotEncoder\n",
    "\n",
    "from sklearn import model_selection\n",
    "\n",
    "import math\n",
    "# Evaluate\n",
    "from sklearn.metrics import r2_score,max_error,mean_absolute_error, mean_squared_error, mean_absolute_percentage_error\n",
    "\n",
    "from sklearn.ensemble import RandomForestRegressor\n",
    "\n",
    "from sklearn.model_selection import GridSearchCV"
   ]
  },
  {
   "cell_type": "markdown",
   "metadata": {
    "id": "ihKaglRVu1ak"
   },
   "source": [
    "# Preprocessing"
   ]
  },
  {
   "cell_type": "code",
   "execution_count": 3,
   "metadata": {
    "id": "Jquo1Fbmu1am"
   },
   "outputs": [],
   "source": [
    "df = pd.read_csv(\"data/data_cleaned.csv\")\n",
    "df.drop(['ZipCode','Latitude', 'Longitude'], axis=1, inplace=True)"
   ]
  },
  {
   "cell_type": "code",
   "execution_count": 6,
   "metadata": {},
   "outputs": [],
   "source": [
    "df = pd.read_csv(\"data/2016_Building_Energy_Benchmarking.csv\")\n",
    "df.drop(['ZipCode','Latitude', 'Longitude'], axis=1, inplace=True)"
   ]
  },
  {
   "cell_type": "code",
   "execution_count": 7,
   "metadata": {},
   "outputs": [
    {
     "data": {
      "text/html": [
       "<div>\n",
       "<style scoped>\n",
       "    .dataframe tbody tr th:only-of-type {\n",
       "        vertical-align: middle;\n",
       "    }\n",
       "\n",
       "    .dataframe tbody tr th {\n",
       "        vertical-align: top;\n",
       "    }\n",
       "\n",
       "    .dataframe thead th {\n",
       "        text-align: right;\n",
       "    }\n",
       "</style>\n",
       "<table border=\"1\" class=\"dataframe\">\n",
       "  <thead>\n",
       "    <tr style=\"text-align: right;\">\n",
       "      <th></th>\n",
       "      <th>OSEBuildingID</th>\n",
       "      <th>DataYear</th>\n",
       "      <th>BuildingType</th>\n",
       "      <th>PrimaryPropertyType</th>\n",
       "      <th>PropertyName</th>\n",
       "      <th>Address</th>\n",
       "      <th>City</th>\n",
       "      <th>State</th>\n",
       "      <th>TaxParcelIdentificationNumber</th>\n",
       "      <th>CouncilDistrictCode</th>\n",
       "      <th>...</th>\n",
       "      <th>Electricity(kWh)</th>\n",
       "      <th>Electricity(kBtu)</th>\n",
       "      <th>NaturalGas(therms)</th>\n",
       "      <th>NaturalGas(kBtu)</th>\n",
       "      <th>DefaultData</th>\n",
       "      <th>Comments</th>\n",
       "      <th>ComplianceStatus</th>\n",
       "      <th>Outlier</th>\n",
       "      <th>TotalGHGEmissions</th>\n",
       "      <th>GHGEmissionsIntensity</th>\n",
       "    </tr>\n",
       "  </thead>\n",
       "  <tbody>\n",
       "    <tr>\n",
       "      <th>0</th>\n",
       "      <td>1</td>\n",
       "      <td>2016</td>\n",
       "      <td>NonResidential</td>\n",
       "      <td>Hotel</td>\n",
       "      <td>Mayflower park hotel</td>\n",
       "      <td>405 Olive way</td>\n",
       "      <td>Seattle</td>\n",
       "      <td>WA</td>\n",
       "      <td>0659000030</td>\n",
       "      <td>7</td>\n",
       "      <td>...</td>\n",
       "      <td>1.156514e+06</td>\n",
       "      <td>3.946027e+06</td>\n",
       "      <td>12764.529300</td>\n",
       "      <td>1.276453e+06</td>\n",
       "      <td>False</td>\n",
       "      <td>NaN</td>\n",
       "      <td>Compliant</td>\n",
       "      <td>NaN</td>\n",
       "      <td>249.98</td>\n",
       "      <td>2.83</td>\n",
       "    </tr>\n",
       "    <tr>\n",
       "      <th>1</th>\n",
       "      <td>2</td>\n",
       "      <td>2016</td>\n",
       "      <td>NonResidential</td>\n",
       "      <td>Hotel</td>\n",
       "      <td>Paramount Hotel</td>\n",
       "      <td>724 Pine street</td>\n",
       "      <td>Seattle</td>\n",
       "      <td>WA</td>\n",
       "      <td>0659000220</td>\n",
       "      <td>7</td>\n",
       "      <td>...</td>\n",
       "      <td>9.504252e+05</td>\n",
       "      <td>3.242851e+06</td>\n",
       "      <td>51450.816410</td>\n",
       "      <td>5.145082e+06</td>\n",
       "      <td>False</td>\n",
       "      <td>NaN</td>\n",
       "      <td>Compliant</td>\n",
       "      <td>NaN</td>\n",
       "      <td>295.86</td>\n",
       "      <td>2.86</td>\n",
       "    </tr>\n",
       "    <tr>\n",
       "      <th>2</th>\n",
       "      <td>3</td>\n",
       "      <td>2016</td>\n",
       "      <td>NonResidential</td>\n",
       "      <td>Hotel</td>\n",
       "      <td>5673-The Westin Seattle</td>\n",
       "      <td>1900 5th Avenue</td>\n",
       "      <td>Seattle</td>\n",
       "      <td>WA</td>\n",
       "      <td>0659000475</td>\n",
       "      <td>7</td>\n",
       "      <td>...</td>\n",
       "      <td>1.451544e+07</td>\n",
       "      <td>4.952666e+07</td>\n",
       "      <td>14938.000000</td>\n",
       "      <td>1.493800e+06</td>\n",
       "      <td>False</td>\n",
       "      <td>NaN</td>\n",
       "      <td>Compliant</td>\n",
       "      <td>NaN</td>\n",
       "      <td>2089.28</td>\n",
       "      <td>2.19</td>\n",
       "    </tr>\n",
       "    <tr>\n",
       "      <th>3</th>\n",
       "      <td>5</td>\n",
       "      <td>2016</td>\n",
       "      <td>NonResidential</td>\n",
       "      <td>Hotel</td>\n",
       "      <td>HOTEL MAX</td>\n",
       "      <td>620 STEWART ST</td>\n",
       "      <td>Seattle</td>\n",
       "      <td>WA</td>\n",
       "      <td>0659000640</td>\n",
       "      <td>7</td>\n",
       "      <td>...</td>\n",
       "      <td>8.115253e+05</td>\n",
       "      <td>2.768924e+06</td>\n",
       "      <td>18112.130860</td>\n",
       "      <td>1.811213e+06</td>\n",
       "      <td>False</td>\n",
       "      <td>NaN</td>\n",
       "      <td>Compliant</td>\n",
       "      <td>NaN</td>\n",
       "      <td>286.43</td>\n",
       "      <td>4.67</td>\n",
       "    </tr>\n",
       "    <tr>\n",
       "      <th>4</th>\n",
       "      <td>8</td>\n",
       "      <td>2016</td>\n",
       "      <td>NonResidential</td>\n",
       "      <td>Hotel</td>\n",
       "      <td>WARWICK SEATTLE HOTEL (ID8)</td>\n",
       "      <td>401 LENORA ST</td>\n",
       "      <td>Seattle</td>\n",
       "      <td>WA</td>\n",
       "      <td>0659000970</td>\n",
       "      <td>7</td>\n",
       "      <td>...</td>\n",
       "      <td>1.573449e+06</td>\n",
       "      <td>5.368607e+06</td>\n",
       "      <td>88039.984380</td>\n",
       "      <td>8.803998e+06</td>\n",
       "      <td>False</td>\n",
       "      <td>NaN</td>\n",
       "      <td>Compliant</td>\n",
       "      <td>NaN</td>\n",
       "      <td>505.01</td>\n",
       "      <td>2.88</td>\n",
       "    </tr>\n",
       "    <tr>\n",
       "      <th>...</th>\n",
       "      <td>...</td>\n",
       "      <td>...</td>\n",
       "      <td>...</td>\n",
       "      <td>...</td>\n",
       "      <td>...</td>\n",
       "      <td>...</td>\n",
       "      <td>...</td>\n",
       "      <td>...</td>\n",
       "      <td>...</td>\n",
       "      <td>...</td>\n",
       "      <td>...</td>\n",
       "      <td>...</td>\n",
       "      <td>...</td>\n",
       "      <td>...</td>\n",
       "      <td>...</td>\n",
       "      <td>...</td>\n",
       "      <td>...</td>\n",
       "      <td>...</td>\n",
       "      <td>...</td>\n",
       "      <td>...</td>\n",
       "      <td>...</td>\n",
       "    </tr>\n",
       "    <tr>\n",
       "      <th>3371</th>\n",
       "      <td>50222</td>\n",
       "      <td>2016</td>\n",
       "      <td>Nonresidential COS</td>\n",
       "      <td>Office</td>\n",
       "      <td>Horticulture building</td>\n",
       "      <td>1600 S Dakota St</td>\n",
       "      <td>Seattle</td>\n",
       "      <td>WA</td>\n",
       "      <td>1624049080</td>\n",
       "      <td>2</td>\n",
       "      <td>...</td>\n",
       "      <td>1.536550e+05</td>\n",
       "      <td>5.242709e+05</td>\n",
       "      <td>3254.750244</td>\n",
       "      <td>3.254750e+05</td>\n",
       "      <td>True</td>\n",
       "      <td>NaN</td>\n",
       "      <td>Error - Correct Default Data</td>\n",
       "      <td>NaN</td>\n",
       "      <td>20.94</td>\n",
       "      <td>1.70</td>\n",
       "    </tr>\n",
       "    <tr>\n",
       "      <th>3372</th>\n",
       "      <td>50223</td>\n",
       "      <td>2016</td>\n",
       "      <td>Nonresidential COS</td>\n",
       "      <td>Other</td>\n",
       "      <td>International district/Chinatown CC</td>\n",
       "      <td>719 8th Ave S</td>\n",
       "      <td>Seattle</td>\n",
       "      <td>WA</td>\n",
       "      <td>3558300000</td>\n",
       "      <td>2</td>\n",
       "      <td>...</td>\n",
       "      <td>1.162210e+05</td>\n",
       "      <td>3.965461e+05</td>\n",
       "      <td>5537.299805</td>\n",
       "      <td>5.537300e+05</td>\n",
       "      <td>False</td>\n",
       "      <td>NaN</td>\n",
       "      <td>Compliant</td>\n",
       "      <td>NaN</td>\n",
       "      <td>32.17</td>\n",
       "      <td>2.01</td>\n",
       "    </tr>\n",
       "    <tr>\n",
       "      <th>3373</th>\n",
       "      <td>50224</td>\n",
       "      <td>2016</td>\n",
       "      <td>Nonresidential COS</td>\n",
       "      <td>Other</td>\n",
       "      <td>Queen Anne Pool</td>\n",
       "      <td>1920 1st Ave W</td>\n",
       "      <td>Seattle</td>\n",
       "      <td>WA</td>\n",
       "      <td>1794501150</td>\n",
       "      <td>7</td>\n",
       "      <td>...</td>\n",
       "      <td>5.252517e+05</td>\n",
       "      <td>1.792159e+06</td>\n",
       "      <td>39737.390630</td>\n",
       "      <td>3.973739e+06</td>\n",
       "      <td>False</td>\n",
       "      <td>NaN</td>\n",
       "      <td>Compliant</td>\n",
       "      <td>NaN</td>\n",
       "      <td>223.54</td>\n",
       "      <td>16.99</td>\n",
       "    </tr>\n",
       "    <tr>\n",
       "      <th>3374</th>\n",
       "      <td>50225</td>\n",
       "      <td>2016</td>\n",
       "      <td>Nonresidential COS</td>\n",
       "      <td>Mixed Use Property</td>\n",
       "      <td>South Park Community Center</td>\n",
       "      <td>8319 8th Ave S</td>\n",
       "      <td>Seattle</td>\n",
       "      <td>WA</td>\n",
       "      <td>7883603155</td>\n",
       "      <td>1</td>\n",
       "      <td>...</td>\n",
       "      <td>1.022480e+05</td>\n",
       "      <td>3.488702e+05</td>\n",
       "      <td>3706.010010</td>\n",
       "      <td>3.706010e+05</td>\n",
       "      <td>False</td>\n",
       "      <td>NaN</td>\n",
       "      <td>Compliant</td>\n",
       "      <td>NaN</td>\n",
       "      <td>22.11</td>\n",
       "      <td>1.57</td>\n",
       "    </tr>\n",
       "    <tr>\n",
       "      <th>3375</th>\n",
       "      <td>50226</td>\n",
       "      <td>2016</td>\n",
       "      <td>Nonresidential COS</td>\n",
       "      <td>Mixed Use Property</td>\n",
       "      <td>Van Asselt Community Center</td>\n",
       "      <td>2820 S Myrtle St</td>\n",
       "      <td>Seattle</td>\n",
       "      <td>WA</td>\n",
       "      <td>7857002030</td>\n",
       "      <td>2</td>\n",
       "      <td>...</td>\n",
       "      <td>1.267744e+05</td>\n",
       "      <td>4.325542e+05</td>\n",
       "      <td>7203.419922</td>\n",
       "      <td>7.203420e+05</td>\n",
       "      <td>False</td>\n",
       "      <td>NaN</td>\n",
       "      <td>Compliant</td>\n",
       "      <td>NaN</td>\n",
       "      <td>41.27</td>\n",
       "      <td>2.26</td>\n",
       "    </tr>\n",
       "  </tbody>\n",
       "</table>\n",
       "<p>3376 rows × 43 columns</p>\n",
       "</div>"
      ],
      "text/plain": [
       "      OSEBuildingID  DataYear        BuildingType PrimaryPropertyType  \\\n",
       "0                 1      2016      NonResidential               Hotel   \n",
       "1                 2      2016      NonResidential               Hotel   \n",
       "2                 3      2016      NonResidential               Hotel   \n",
       "3                 5      2016      NonResidential               Hotel   \n",
       "4                 8      2016      NonResidential               Hotel   \n",
       "...             ...       ...                 ...                 ...   \n",
       "3371          50222      2016  Nonresidential COS              Office   \n",
       "3372          50223      2016  Nonresidential COS               Other   \n",
       "3373          50224      2016  Nonresidential COS               Other   \n",
       "3374          50225      2016  Nonresidential COS  Mixed Use Property   \n",
       "3375          50226      2016  Nonresidential COS  Mixed Use Property   \n",
       "\n",
       "                             PropertyName           Address     City State  \\\n",
       "0                    Mayflower park hotel     405 Olive way  Seattle    WA   \n",
       "1                         Paramount Hotel   724 Pine street  Seattle    WA   \n",
       "2                 5673-The Westin Seattle   1900 5th Avenue  Seattle    WA   \n",
       "3                               HOTEL MAX    620 STEWART ST  Seattle    WA   \n",
       "4             WARWICK SEATTLE HOTEL (ID8)     401 LENORA ST  Seattle    WA   \n",
       "...                                   ...               ...      ...   ...   \n",
       "3371                Horticulture building  1600 S Dakota St  Seattle    WA   \n",
       "3372  International district/Chinatown CC     719 8th Ave S  Seattle    WA   \n",
       "3373                      Queen Anne Pool    1920 1st Ave W  Seattle    WA   \n",
       "3374          South Park Community Center    8319 8th Ave S  Seattle    WA   \n",
       "3375          Van Asselt Community Center  2820 S Myrtle St  Seattle    WA   \n",
       "\n",
       "     TaxParcelIdentificationNumber  CouncilDistrictCode  ... Electricity(kWh)  \\\n",
       "0                       0659000030                    7  ...     1.156514e+06   \n",
       "1                       0659000220                    7  ...     9.504252e+05   \n",
       "2                       0659000475                    7  ...     1.451544e+07   \n",
       "3                       0659000640                    7  ...     8.115253e+05   \n",
       "4                       0659000970                    7  ...     1.573449e+06   \n",
       "...                            ...                  ...  ...              ...   \n",
       "3371                    1624049080                    2  ...     1.536550e+05   \n",
       "3372                    3558300000                    2  ...     1.162210e+05   \n",
       "3373                    1794501150                    7  ...     5.252517e+05   \n",
       "3374                    7883603155                    1  ...     1.022480e+05   \n",
       "3375                    7857002030                    2  ...     1.267744e+05   \n",
       "\n",
       "      Electricity(kBtu)  NaturalGas(therms)  NaturalGas(kBtu)  DefaultData  \\\n",
       "0          3.946027e+06        12764.529300      1.276453e+06        False   \n",
       "1          3.242851e+06        51450.816410      5.145082e+06        False   \n",
       "2          4.952666e+07        14938.000000      1.493800e+06        False   \n",
       "3          2.768924e+06        18112.130860      1.811213e+06        False   \n",
       "4          5.368607e+06        88039.984380      8.803998e+06        False   \n",
       "...                 ...                 ...               ...          ...   \n",
       "3371       5.242709e+05         3254.750244      3.254750e+05         True   \n",
       "3372       3.965461e+05         5537.299805      5.537300e+05        False   \n",
       "3373       1.792159e+06        39737.390630      3.973739e+06        False   \n",
       "3374       3.488702e+05         3706.010010      3.706010e+05        False   \n",
       "3375       4.325542e+05         7203.419922      7.203420e+05        False   \n",
       "\n",
       "      Comments              ComplianceStatus Outlier TotalGHGEmissions  \\\n",
       "0          NaN                     Compliant     NaN            249.98   \n",
       "1          NaN                     Compliant     NaN            295.86   \n",
       "2          NaN                     Compliant     NaN           2089.28   \n",
       "3          NaN                     Compliant     NaN            286.43   \n",
       "4          NaN                     Compliant     NaN            505.01   \n",
       "...        ...                           ...     ...               ...   \n",
       "3371       NaN  Error - Correct Default Data     NaN             20.94   \n",
       "3372       NaN                     Compliant     NaN             32.17   \n",
       "3373       NaN                     Compliant     NaN            223.54   \n",
       "3374       NaN                     Compliant     NaN             22.11   \n",
       "3375       NaN                     Compliant     NaN             41.27   \n",
       "\n",
       "      GHGEmissionsIntensity  \n",
       "0                      2.83  \n",
       "1                      2.86  \n",
       "2                      2.19  \n",
       "3                      4.67  \n",
       "4                      2.88  \n",
       "...                     ...  \n",
       "3371                   1.70  \n",
       "3372                   2.01  \n",
       "3373                  16.99  \n",
       "3374                   1.57  \n",
       "3375                   2.26  \n",
       "\n",
       "[3376 rows x 43 columns]"
      ]
     },
     "execution_count": 7,
     "metadata": {},
     "output_type": "execute_result"
    }
   ],
   "source": [
    "df"
   ]
  },
  {
   "cell_type": "code",
   "execution_count": 8,
   "metadata": {},
   "outputs": [
    {
     "data": {
      "text/plain": [
       "Index(['OSEBuildingID', 'DataYear', 'BuildingType', 'PrimaryPropertyType',\n",
       "       'PropertyName', 'Address', 'City', 'State',\n",
       "       'TaxParcelIdentificationNumber', 'CouncilDistrictCode', 'Neighborhood',\n",
       "       'YearBuilt', 'NumberofBuildings', 'NumberofFloors', 'PropertyGFATotal',\n",
       "       'PropertyGFAParking', 'PropertyGFABuilding(s)',\n",
       "       'ListOfAllPropertyUseTypes', 'LargestPropertyUseType',\n",
       "       'LargestPropertyUseTypeGFA', 'SecondLargestPropertyUseType',\n",
       "       'SecondLargestPropertyUseTypeGFA', 'ThirdLargestPropertyUseType',\n",
       "       'ThirdLargestPropertyUseTypeGFA', 'YearsENERGYSTARCertified',\n",
       "       'ENERGYSTARScore', 'SiteEUI(kBtu/sf)', 'SiteEUIWN(kBtu/sf)',\n",
       "       'SourceEUI(kBtu/sf)', 'SourceEUIWN(kBtu/sf)', 'SiteEnergyUse(kBtu)',\n",
       "       'SiteEnergyUseWN(kBtu)', 'SteamUse(kBtu)', 'Electricity(kWh)',\n",
       "       'Electricity(kBtu)', 'NaturalGas(therms)', 'NaturalGas(kBtu)',\n",
       "       'DefaultData', 'Comments', 'ComplianceStatus', 'Outlier',\n",
       "       'TotalGHGEmissions', 'GHGEmissionsIntensity'],\n",
       "      dtype='object')"
      ]
     },
     "execution_count": 8,
     "metadata": {},
     "output_type": "execute_result"
    }
   ],
   "source": [
    "df.columns"
   ]
  },
  {
   "cell_type": "markdown",
   "metadata": {},
   "source": [
    "## Préparation de la donnée"
   ]
  },
  {
   "cell_type": "markdown",
   "metadata": {},
   "source": [
    "* X train et test*\n",
    "\n",
    "Nous allons scale certaines données, et encoder les données catégoriques :\n",
    "\n",
    "Données à scale : 'CouncilDistrictCode', 'NumberofFloors', 'PropertyGFATotal', 'PropertyGFAParking', 'ENERGYSTARScore', 'SteamUse(kBtu)', 'BuildingAge'\n",
    "\n",
    "Donnée à encoder : 'BuildingType', 'PrimaryPropertyType', 'Neighborhood'"
   ]
  },
  {
   "cell_type": "markdown",
   "metadata": {},
   "source": [
    "### Scaling des données"
   ]
  },
  {
   "cell_type": "code",
   "execution_count": 4,
   "metadata": {},
   "outputs": [],
   "source": [
    "X_to_scale = df.drop(['TotalGHGEmissions', 'BuildingType', 'PrimaryPropertyType', 'Neighborhood'], axis=1)"
   ]
  },
  {
   "cell_type": "markdown",
   "metadata": {},
   "source": [
    "#### Compléter ENERGYSTARScore"
   ]
  },
  {
   "cell_type": "code",
   "execution_count": 5,
   "metadata": {},
   "outputs": [
    {
     "name": "stdout",
     "output_type": "stream",
     "text": [
      "Il y a actuellement 560 valeurs NaN dans ENERGYSTARScore\n"
     ]
    }
   ],
   "source": [
    "print(f'Il y a actuellement {X_to_scale.isna().sum()[4]} valeurs NaN dans ENERGYSTARScore')"
   ]
  },
  {
   "cell_type": "code",
   "execution_count": 6,
   "metadata": {},
   "outputs": [],
   "source": [
    "imputer = KNNImputer(n_neighbors=5)\n",
    "\n",
    "energystar = X_to_scale.values\n",
    "new_X_to_scale = pd.DataFrame(imputer.fit_transform(energystar), columns = X_to_scale.columns)"
   ]
  },
  {
   "cell_type": "code",
   "execution_count": 7,
   "metadata": {},
   "outputs": [
    {
     "name": "stdout",
     "output_type": "stream",
     "text": [
      "Il y a actuellement 0 valeurs NaN dans ENERGYSTARScore\n"
     ]
    }
   ],
   "source": [
    "print(f'Il y a actuellement {new_X_to_scale.isna().sum()[4]} valeurs NaN dans ENERGYSTARScore')"
   ]
  },
  {
   "cell_type": "markdown",
   "metadata": {},
   "source": [
    "#### Continuation du scaling"
   ]
  },
  {
   "cell_type": "code",
   "execution_count": 8,
   "metadata": {},
   "outputs": [],
   "source": [
    "to_scale = new_X_to_scale.values"
   ]
  },
  {
   "cell_type": "code",
   "execution_count": 9,
   "metadata": {},
   "outputs": [],
   "source": [
    "X_to_encode = df.drop(['TotalGHGEmissions',  'CouncilDistrictCode', 'NumberofFloors', 'PropertyGFATotal',\n",
    "                       'PropertyGFAParking', 'ENERGYSTARScore', 'SteamUse(kBtu)', 'BuildingAge'], axis = 1)"
   ]
  },
  {
   "cell_type": "code",
   "execution_count": 10,
   "metadata": {
    "id": "Ry_wTx4Cu1ax"
   },
   "outputs": [],
   "source": [
    "#X = df.drop('TotalGHGEmissions', axis=1)\n",
    "y = df['TotalGHGEmissions']"
   ]
  },
  {
   "cell_type": "markdown",
   "metadata": {},
   "source": [
    "#### Scaling"
   ]
  },
  {
   "cell_type": "code",
   "execution_count": 11,
   "metadata": {},
   "outputs": [],
   "source": [
    "rs = MinMaxScaler()\n",
    "rs = rs.fit(to_scale)\n",
    "to_scale = rs.transform(to_scale)"
   ]
  },
  {
   "cell_type": "code",
   "execution_count": 12,
   "metadata": {},
   "outputs": [],
   "source": [
    "X_scaled = pd.DataFrame(to_scale, columns = X_to_scale.columns)"
   ]
  },
  {
   "cell_type": "code",
   "execution_count": 13,
   "metadata": {},
   "outputs": [
    {
     "data": {
      "text/html": [
       "<div>\n",
       "<style scoped>\n",
       "    .dataframe tbody tr th:only-of-type {\n",
       "        vertical-align: middle;\n",
       "    }\n",
       "\n",
       "    .dataframe tbody tr th {\n",
       "        vertical-align: top;\n",
       "    }\n",
       "\n",
       "    .dataframe thead th {\n",
       "        text-align: right;\n",
       "    }\n",
       "</style>\n",
       "<table border=\"1\" class=\"dataframe\">\n",
       "  <thead>\n",
       "    <tr style=\"text-align: right;\">\n",
       "      <th></th>\n",
       "      <th>CouncilDistrictCode</th>\n",
       "      <th>NumberofFloors</th>\n",
       "      <th>PropertyGFATotal</th>\n",
       "      <th>PropertyGFAParking</th>\n",
       "      <th>ENERGYSTARScore</th>\n",
       "      <th>SteamUse(kBtu)</th>\n",
       "      <th>BuildingAge</th>\n",
       "    </tr>\n",
       "  </thead>\n",
       "  <tbody>\n",
       "    <tr>\n",
       "      <th>0</th>\n",
       "      <td>1.000000</td>\n",
       "      <td>0.121212</td>\n",
       "      <td>0.008288</td>\n",
       "      <td>0.000000</td>\n",
       "      <td>0.595960</td>\n",
       "      <td>0.014850</td>\n",
       "      <td>0.765217</td>\n",
       "    </tr>\n",
       "    <tr>\n",
       "      <th>1</th>\n",
       "      <td>1.000000</td>\n",
       "      <td>0.111111</td>\n",
       "      <td>0.009913</td>\n",
       "      <td>0.029387</td>\n",
       "      <td>0.606061</td>\n",
       "      <td>0.000000</td>\n",
       "      <td>0.165217</td>\n",
       "    </tr>\n",
       "    <tr>\n",
       "      <th>2</th>\n",
       "      <td>1.000000</td>\n",
       "      <td>0.414141</td>\n",
       "      <td>0.101497</td>\n",
       "      <td>0.383759</td>\n",
       "      <td>0.424242</td>\n",
       "      <td>0.159819</td>\n",
       "      <td>0.400000</td>\n",
       "    </tr>\n",
       "    <tr>\n",
       "      <th>3</th>\n",
       "      <td>1.000000</td>\n",
       "      <td>0.101010</td>\n",
       "      <td>0.005375</td>\n",
       "      <td>0.000000</td>\n",
       "      <td>0.555556</td>\n",
       "      <td>0.016410</td>\n",
       "      <td>0.773913</td>\n",
       "    </tr>\n",
       "    <tr>\n",
       "      <th>4</th>\n",
       "      <td>1.000000</td>\n",
       "      <td>0.181818</td>\n",
       "      <td>0.017649</td>\n",
       "      <td>0.120950</td>\n",
       "      <td>0.747475</td>\n",
       "      <td>0.000000</td>\n",
       "      <td>0.304348</td>\n",
       "    </tr>\n",
       "    <tr>\n",
       "      <th>...</th>\n",
       "      <td>...</td>\n",
       "      <td>...</td>\n",
       "      <td>...</td>\n",
       "      <td>...</td>\n",
       "      <td>...</td>\n",
       "      <td>...</td>\n",
       "      <td>...</td>\n",
       "    </tr>\n",
       "    <tr>\n",
       "      <th>1634</th>\n",
       "      <td>0.166667</td>\n",
       "      <td>0.010101</td>\n",
       "      <td>0.000108</td>\n",
       "      <td>0.000000</td>\n",
       "      <td>0.454545</td>\n",
       "      <td>0.000000</td>\n",
       "      <td>0.217391</td>\n",
       "    </tr>\n",
       "    <tr>\n",
       "      <th>1635</th>\n",
       "      <td>0.166667</td>\n",
       "      <td>0.010101</td>\n",
       "      <td>0.000507</td>\n",
       "      <td>0.000000</td>\n",
       "      <td>0.660606</td>\n",
       "      <td>0.000000</td>\n",
       "      <td>0.095652</td>\n",
       "    </tr>\n",
       "    <tr>\n",
       "      <th>1636</th>\n",
       "      <td>1.000000</td>\n",
       "      <td>0.010101</td>\n",
       "      <td>0.000201</td>\n",
       "      <td>0.000000</td>\n",
       "      <td>0.660606</td>\n",
       "      <td>0.000000</td>\n",
       "      <td>0.356522</td>\n",
       "    </tr>\n",
       "    <tr>\n",
       "      <th>1637</th>\n",
       "      <td>0.000000</td>\n",
       "      <td>0.010101</td>\n",
       "      <td>0.000303</td>\n",
       "      <td>0.000000</td>\n",
       "      <td>0.660606</td>\n",
       "      <td>0.000000</td>\n",
       "      <td>0.226087</td>\n",
       "    </tr>\n",
       "    <tr>\n",
       "      <th>1638</th>\n",
       "      <td>0.166667</td>\n",
       "      <td>0.010101</td>\n",
       "      <td>0.000749</td>\n",
       "      <td>0.000000</td>\n",
       "      <td>0.509091</td>\n",
       "      <td>0.000000</td>\n",
       "      <td>0.669565</td>\n",
       "    </tr>\n",
       "  </tbody>\n",
       "</table>\n",
       "<p>1639 rows × 7 columns</p>\n",
       "</div>"
      ],
      "text/plain": [
       "      CouncilDistrictCode  NumberofFloors  PropertyGFATotal  \\\n",
       "0                1.000000        0.121212          0.008288   \n",
       "1                1.000000        0.111111          0.009913   \n",
       "2                1.000000        0.414141          0.101497   \n",
       "3                1.000000        0.101010          0.005375   \n",
       "4                1.000000        0.181818          0.017649   \n",
       "...                   ...             ...               ...   \n",
       "1634             0.166667        0.010101          0.000108   \n",
       "1635             0.166667        0.010101          0.000507   \n",
       "1636             1.000000        0.010101          0.000201   \n",
       "1637             0.000000        0.010101          0.000303   \n",
       "1638             0.166667        0.010101          0.000749   \n",
       "\n",
       "      PropertyGFAParking  ENERGYSTARScore  SteamUse(kBtu)  BuildingAge  \n",
       "0               0.000000         0.595960        0.014850     0.765217  \n",
       "1               0.029387         0.606061        0.000000     0.165217  \n",
       "2               0.383759         0.424242        0.159819     0.400000  \n",
       "3               0.000000         0.555556        0.016410     0.773913  \n",
       "4               0.120950         0.747475        0.000000     0.304348  \n",
       "...                  ...              ...             ...          ...  \n",
       "1634            0.000000         0.454545        0.000000     0.217391  \n",
       "1635            0.000000         0.660606        0.000000     0.095652  \n",
       "1636            0.000000         0.660606        0.000000     0.356522  \n",
       "1637            0.000000         0.660606        0.000000     0.226087  \n",
       "1638            0.000000         0.509091        0.000000     0.669565  \n",
       "\n",
       "[1639 rows x 7 columns]"
      ]
     },
     "execution_count": 13,
     "metadata": {},
     "output_type": "execute_result"
    }
   ],
   "source": [
    "X_scaled"
   ]
  },
  {
   "cell_type": "markdown",
   "metadata": {},
   "source": [
    "#### Encoding"
   ]
  },
  {
   "cell_type": "code",
   "execution_count": 14,
   "metadata": {
    "scrolled": false
   },
   "outputs": [
    {
     "data": {
      "text/html": [
       "<div>\n",
       "<style scoped>\n",
       "    .dataframe tbody tr th:only-of-type {\n",
       "        vertical-align: middle;\n",
       "    }\n",
       "\n",
       "    .dataframe tbody tr th {\n",
       "        vertical-align: top;\n",
       "    }\n",
       "\n",
       "    .dataframe thead th {\n",
       "        text-align: right;\n",
       "    }\n",
       "</style>\n",
       "<table border=\"1\" class=\"dataframe\">\n",
       "  <thead>\n",
       "    <tr style=\"text-align: right;\">\n",
       "      <th></th>\n",
       "      <th>x0_Campus</th>\n",
       "      <th>x0_NonResidential</th>\n",
       "      <th>x0_Nonresidential COS</th>\n",
       "      <th>x0_SPS-District K-12</th>\n",
       "      <th>x1_Distribution Center</th>\n",
       "      <th>x1_Hospital</th>\n",
       "      <th>x1_Hotel</th>\n",
       "      <th>x1_K-12 School</th>\n",
       "      <th>x1_Laboratory</th>\n",
       "      <th>x1_Large Office</th>\n",
       "      <th>...</th>\n",
       "      <th>x2_DOWNTOWN</th>\n",
       "      <th>x2_EAST</th>\n",
       "      <th>x2_GREATER DUWAMISH</th>\n",
       "      <th>x2_LAKE UNION</th>\n",
       "      <th>x2_MAGNOLIA / QUEEN ANNE</th>\n",
       "      <th>x2_NORTH</th>\n",
       "      <th>x2_NORTHEAST</th>\n",
       "      <th>x2_NORTHWEST</th>\n",
       "      <th>x2_SOUTHEAST</th>\n",
       "      <th>x2_SOUTHWEST</th>\n",
       "    </tr>\n",
       "  </thead>\n",
       "  <tbody>\n",
       "    <tr>\n",
       "      <th>0</th>\n",
       "      <td>0.0</td>\n",
       "      <td>1.0</td>\n",
       "      <td>0.0</td>\n",
       "      <td>0.0</td>\n",
       "      <td>0.0</td>\n",
       "      <td>0.0</td>\n",
       "      <td>1.0</td>\n",
       "      <td>0.0</td>\n",
       "      <td>0.0</td>\n",
       "      <td>0.0</td>\n",
       "      <td>...</td>\n",
       "      <td>1.0</td>\n",
       "      <td>0.0</td>\n",
       "      <td>0.0</td>\n",
       "      <td>0.0</td>\n",
       "      <td>0.0</td>\n",
       "      <td>0.0</td>\n",
       "      <td>0.0</td>\n",
       "      <td>0.0</td>\n",
       "      <td>0.0</td>\n",
       "      <td>0.0</td>\n",
       "    </tr>\n",
       "    <tr>\n",
       "      <th>1</th>\n",
       "      <td>0.0</td>\n",
       "      <td>1.0</td>\n",
       "      <td>0.0</td>\n",
       "      <td>0.0</td>\n",
       "      <td>0.0</td>\n",
       "      <td>0.0</td>\n",
       "      <td>1.0</td>\n",
       "      <td>0.0</td>\n",
       "      <td>0.0</td>\n",
       "      <td>0.0</td>\n",
       "      <td>...</td>\n",
       "      <td>1.0</td>\n",
       "      <td>0.0</td>\n",
       "      <td>0.0</td>\n",
       "      <td>0.0</td>\n",
       "      <td>0.0</td>\n",
       "      <td>0.0</td>\n",
       "      <td>0.0</td>\n",
       "      <td>0.0</td>\n",
       "      <td>0.0</td>\n",
       "      <td>0.0</td>\n",
       "    </tr>\n",
       "    <tr>\n",
       "      <th>2</th>\n",
       "      <td>0.0</td>\n",
       "      <td>1.0</td>\n",
       "      <td>0.0</td>\n",
       "      <td>0.0</td>\n",
       "      <td>0.0</td>\n",
       "      <td>0.0</td>\n",
       "      <td>1.0</td>\n",
       "      <td>0.0</td>\n",
       "      <td>0.0</td>\n",
       "      <td>0.0</td>\n",
       "      <td>...</td>\n",
       "      <td>1.0</td>\n",
       "      <td>0.0</td>\n",
       "      <td>0.0</td>\n",
       "      <td>0.0</td>\n",
       "      <td>0.0</td>\n",
       "      <td>0.0</td>\n",
       "      <td>0.0</td>\n",
       "      <td>0.0</td>\n",
       "      <td>0.0</td>\n",
       "      <td>0.0</td>\n",
       "    </tr>\n",
       "    <tr>\n",
       "      <th>3</th>\n",
       "      <td>0.0</td>\n",
       "      <td>1.0</td>\n",
       "      <td>0.0</td>\n",
       "      <td>0.0</td>\n",
       "      <td>0.0</td>\n",
       "      <td>0.0</td>\n",
       "      <td>1.0</td>\n",
       "      <td>0.0</td>\n",
       "      <td>0.0</td>\n",
       "      <td>0.0</td>\n",
       "      <td>...</td>\n",
       "      <td>1.0</td>\n",
       "      <td>0.0</td>\n",
       "      <td>0.0</td>\n",
       "      <td>0.0</td>\n",
       "      <td>0.0</td>\n",
       "      <td>0.0</td>\n",
       "      <td>0.0</td>\n",
       "      <td>0.0</td>\n",
       "      <td>0.0</td>\n",
       "      <td>0.0</td>\n",
       "    </tr>\n",
       "    <tr>\n",
       "      <th>4</th>\n",
       "      <td>0.0</td>\n",
       "      <td>1.0</td>\n",
       "      <td>0.0</td>\n",
       "      <td>0.0</td>\n",
       "      <td>0.0</td>\n",
       "      <td>0.0</td>\n",
       "      <td>1.0</td>\n",
       "      <td>0.0</td>\n",
       "      <td>0.0</td>\n",
       "      <td>0.0</td>\n",
       "      <td>...</td>\n",
       "      <td>1.0</td>\n",
       "      <td>0.0</td>\n",
       "      <td>0.0</td>\n",
       "      <td>0.0</td>\n",
       "      <td>0.0</td>\n",
       "      <td>0.0</td>\n",
       "      <td>0.0</td>\n",
       "      <td>0.0</td>\n",
       "      <td>0.0</td>\n",
       "      <td>0.0</td>\n",
       "    </tr>\n",
       "    <tr>\n",
       "      <th>...</th>\n",
       "      <td>...</td>\n",
       "      <td>...</td>\n",
       "      <td>...</td>\n",
       "      <td>...</td>\n",
       "      <td>...</td>\n",
       "      <td>...</td>\n",
       "      <td>...</td>\n",
       "      <td>...</td>\n",
       "      <td>...</td>\n",
       "      <td>...</td>\n",
       "      <td>...</td>\n",
       "      <td>...</td>\n",
       "      <td>...</td>\n",
       "      <td>...</td>\n",
       "      <td>...</td>\n",
       "      <td>...</td>\n",
       "      <td>...</td>\n",
       "      <td>...</td>\n",
       "      <td>...</td>\n",
       "      <td>...</td>\n",
       "      <td>...</td>\n",
       "    </tr>\n",
       "    <tr>\n",
       "      <th>1634</th>\n",
       "      <td>0.0</td>\n",
       "      <td>0.0</td>\n",
       "      <td>1.0</td>\n",
       "      <td>0.0</td>\n",
       "      <td>0.0</td>\n",
       "      <td>0.0</td>\n",
       "      <td>0.0</td>\n",
       "      <td>0.0</td>\n",
       "      <td>0.0</td>\n",
       "      <td>0.0</td>\n",
       "      <td>...</td>\n",
       "      <td>0.0</td>\n",
       "      <td>0.0</td>\n",
       "      <td>1.0</td>\n",
       "      <td>0.0</td>\n",
       "      <td>0.0</td>\n",
       "      <td>0.0</td>\n",
       "      <td>0.0</td>\n",
       "      <td>0.0</td>\n",
       "      <td>0.0</td>\n",
       "      <td>0.0</td>\n",
       "    </tr>\n",
       "    <tr>\n",
       "      <th>1635</th>\n",
       "      <td>0.0</td>\n",
       "      <td>0.0</td>\n",
       "      <td>1.0</td>\n",
       "      <td>0.0</td>\n",
       "      <td>0.0</td>\n",
       "      <td>0.0</td>\n",
       "      <td>0.0</td>\n",
       "      <td>0.0</td>\n",
       "      <td>0.0</td>\n",
       "      <td>0.0</td>\n",
       "      <td>...</td>\n",
       "      <td>1.0</td>\n",
       "      <td>0.0</td>\n",
       "      <td>0.0</td>\n",
       "      <td>0.0</td>\n",
       "      <td>0.0</td>\n",
       "      <td>0.0</td>\n",
       "      <td>0.0</td>\n",
       "      <td>0.0</td>\n",
       "      <td>0.0</td>\n",
       "      <td>0.0</td>\n",
       "    </tr>\n",
       "    <tr>\n",
       "      <th>1636</th>\n",
       "      <td>0.0</td>\n",
       "      <td>0.0</td>\n",
       "      <td>1.0</td>\n",
       "      <td>0.0</td>\n",
       "      <td>0.0</td>\n",
       "      <td>0.0</td>\n",
       "      <td>0.0</td>\n",
       "      <td>0.0</td>\n",
       "      <td>0.0</td>\n",
       "      <td>0.0</td>\n",
       "      <td>...</td>\n",
       "      <td>0.0</td>\n",
       "      <td>0.0</td>\n",
       "      <td>0.0</td>\n",
       "      <td>0.0</td>\n",
       "      <td>1.0</td>\n",
       "      <td>0.0</td>\n",
       "      <td>0.0</td>\n",
       "      <td>0.0</td>\n",
       "      <td>0.0</td>\n",
       "      <td>0.0</td>\n",
       "    </tr>\n",
       "    <tr>\n",
       "      <th>1637</th>\n",
       "      <td>0.0</td>\n",
       "      <td>0.0</td>\n",
       "      <td>1.0</td>\n",
       "      <td>0.0</td>\n",
       "      <td>0.0</td>\n",
       "      <td>0.0</td>\n",
       "      <td>0.0</td>\n",
       "      <td>0.0</td>\n",
       "      <td>0.0</td>\n",
       "      <td>0.0</td>\n",
       "      <td>...</td>\n",
       "      <td>0.0</td>\n",
       "      <td>0.0</td>\n",
       "      <td>1.0</td>\n",
       "      <td>0.0</td>\n",
       "      <td>0.0</td>\n",
       "      <td>0.0</td>\n",
       "      <td>0.0</td>\n",
       "      <td>0.0</td>\n",
       "      <td>0.0</td>\n",
       "      <td>0.0</td>\n",
       "    </tr>\n",
       "    <tr>\n",
       "      <th>1638</th>\n",
       "      <td>0.0</td>\n",
       "      <td>0.0</td>\n",
       "      <td>1.0</td>\n",
       "      <td>0.0</td>\n",
       "      <td>0.0</td>\n",
       "      <td>0.0</td>\n",
       "      <td>0.0</td>\n",
       "      <td>0.0</td>\n",
       "      <td>0.0</td>\n",
       "      <td>0.0</td>\n",
       "      <td>...</td>\n",
       "      <td>0.0</td>\n",
       "      <td>0.0</td>\n",
       "      <td>1.0</td>\n",
       "      <td>0.0</td>\n",
       "      <td>0.0</td>\n",
       "      <td>0.0</td>\n",
       "      <td>0.0</td>\n",
       "      <td>0.0</td>\n",
       "      <td>0.0</td>\n",
       "      <td>0.0</td>\n",
       "    </tr>\n",
       "  </tbody>\n",
       "</table>\n",
       "<p>1639 rows × 38 columns</p>\n",
       "</div>"
      ],
      "text/plain": [
       "      x0_Campus  x0_NonResidential  x0_Nonresidential COS  \\\n",
       "0           0.0                1.0                    0.0   \n",
       "1           0.0                1.0                    0.0   \n",
       "2           0.0                1.0                    0.0   \n",
       "3           0.0                1.0                    0.0   \n",
       "4           0.0                1.0                    0.0   \n",
       "...         ...                ...                    ...   \n",
       "1634        0.0                0.0                    1.0   \n",
       "1635        0.0                0.0                    1.0   \n",
       "1636        0.0                0.0                    1.0   \n",
       "1637        0.0                0.0                    1.0   \n",
       "1638        0.0                0.0                    1.0   \n",
       "\n",
       "      x0_SPS-District K-12  x1_Distribution Center  x1_Hospital  x1_Hotel  \\\n",
       "0                      0.0                     0.0          0.0       1.0   \n",
       "1                      0.0                     0.0          0.0       1.0   \n",
       "2                      0.0                     0.0          0.0       1.0   \n",
       "3                      0.0                     0.0          0.0       1.0   \n",
       "4                      0.0                     0.0          0.0       1.0   \n",
       "...                    ...                     ...          ...       ...   \n",
       "1634                   0.0                     0.0          0.0       0.0   \n",
       "1635                   0.0                     0.0          0.0       0.0   \n",
       "1636                   0.0                     0.0          0.0       0.0   \n",
       "1637                   0.0                     0.0          0.0       0.0   \n",
       "1638                   0.0                     0.0          0.0       0.0   \n",
       "\n",
       "      x1_K-12 School  x1_Laboratory  x1_Large Office  ...  x2_DOWNTOWN  \\\n",
       "0                0.0            0.0              0.0  ...          1.0   \n",
       "1                0.0            0.0              0.0  ...          1.0   \n",
       "2                0.0            0.0              0.0  ...          1.0   \n",
       "3                0.0            0.0              0.0  ...          1.0   \n",
       "4                0.0            0.0              0.0  ...          1.0   \n",
       "...              ...            ...              ...  ...          ...   \n",
       "1634             0.0            0.0              0.0  ...          0.0   \n",
       "1635             0.0            0.0              0.0  ...          1.0   \n",
       "1636             0.0            0.0              0.0  ...          0.0   \n",
       "1637             0.0            0.0              0.0  ...          0.0   \n",
       "1638             0.0            0.0              0.0  ...          0.0   \n",
       "\n",
       "      x2_EAST  x2_GREATER DUWAMISH  x2_LAKE UNION  x2_MAGNOLIA / QUEEN ANNE  \\\n",
       "0         0.0                  0.0            0.0                       0.0   \n",
       "1         0.0                  0.0            0.0                       0.0   \n",
       "2         0.0                  0.0            0.0                       0.0   \n",
       "3         0.0                  0.0            0.0                       0.0   \n",
       "4         0.0                  0.0            0.0                       0.0   \n",
       "...       ...                  ...            ...                       ...   \n",
       "1634      0.0                  1.0            0.0                       0.0   \n",
       "1635      0.0                  0.0            0.0                       0.0   \n",
       "1636      0.0                  0.0            0.0                       1.0   \n",
       "1637      0.0                  1.0            0.0                       0.0   \n",
       "1638      0.0                  1.0            0.0                       0.0   \n",
       "\n",
       "      x2_NORTH  x2_NORTHEAST  x2_NORTHWEST  x2_SOUTHEAST  x2_SOUTHWEST  \n",
       "0          0.0           0.0           0.0           0.0           0.0  \n",
       "1          0.0           0.0           0.0           0.0           0.0  \n",
       "2          0.0           0.0           0.0           0.0           0.0  \n",
       "3          0.0           0.0           0.0           0.0           0.0  \n",
       "4          0.0           0.0           0.0           0.0           0.0  \n",
       "...        ...           ...           ...           ...           ...  \n",
       "1634       0.0           0.0           0.0           0.0           0.0  \n",
       "1635       0.0           0.0           0.0           0.0           0.0  \n",
       "1636       0.0           0.0           0.0           0.0           0.0  \n",
       "1637       0.0           0.0           0.0           0.0           0.0  \n",
       "1638       0.0           0.0           0.0           0.0           0.0  \n",
       "\n",
       "[1639 rows x 38 columns]"
      ]
     },
     "execution_count": 14,
     "metadata": {},
     "output_type": "execute_result"
    }
   ],
   "source": [
    "# OneHotEncoder\n",
    "ohe = OneHotEncoder(sparse=False)\n",
    "OH_cols = pd.DataFrame(ohe.fit_transform(X_to_encode), columns=ohe.get_feature_names())\n",
    "\n",
    "# One-hot encoding removed index; put it back\n",
    "OH_cols.index = X_to_encode.index\n",
    "\n",
    "num_trainset = X_to_encode.drop(columns={'BuildingType', 'PrimaryPropertyType', 'Neighborhood'}, axis = 1)\n",
    "\n",
    "# Add one-hot encoded columns to numerical features\n",
    "X_encoded = pd.concat([num_trainset, OH_cols], axis=1)\n",
    "X_encoded"
   ]
  },
  {
   "cell_type": "markdown",
   "metadata": {},
   "source": [
    "### Assemblage des DataFrames"
   ]
  },
  {
   "cell_type": "code",
   "execution_count": 15,
   "metadata": {},
   "outputs": [],
   "source": [
    "X = pd.concat([X_scaled, X_encoded], axis=1)"
   ]
  },
  {
   "cell_type": "code",
   "execution_count": 16,
   "metadata": {
    "id": "Iza0YYfru1ay"
   },
   "outputs": [],
   "source": [
    "X_train, X_test, Y_train, Y_test = model_selection.train_test_split(X, y,test_size=0.3)"
   ]
  },
  {
   "cell_type": "markdown",
   "metadata": {
    "id": "EDELQ7cBu1a-"
   },
   "source": [
    "# Modélisation"
   ]
  },
  {
   "cell_type": "code",
   "execution_count": 17,
   "metadata": {
    "id": "NzYw1SVgu1bA"
   },
   "outputs": [],
   "source": [
    "results = pd.DataFrame(columns=['Modèle','RMSE','Inference_duration (microsecs)'])"
   ]
  },
  {
   "cell_type": "markdown",
   "metadata": {
    "id": "cnsgLiB6u1bB"
   },
   "source": [
    "## RandomForest Regressor"
   ]
  },
  {
   "cell_type": "code",
   "execution_count": 18,
   "metadata": {
    "id": "XfGVB-k2u1bD"
   },
   "outputs": [],
   "source": [
    "parameters = {\n",
    "    'n_estimators' : [10,50,100,300,500],\n",
    "    'min_samples_leaf' : [1,3,5,10], \n",
    "    'max_features': ['auto', 'sqrt']\n",
    "}"
   ]
  },
  {
   "cell_type": "code",
   "execution_count": 19,
   "metadata": {
    "id": "a8Kj3VdXu1bE",
    "outputId": "4ae52501-db4a-4a97-af79-2b1c21c88644"
   },
   "outputs": [
    {
     "name": "stdout",
     "output_type": "stream",
     "text": [
      "Fitting 5 folds for each of 40 candidates, totalling 200 fits\n"
     ]
    },
    {
     "data": {
      "text/plain": [
       "GridSearchCV(cv=5, estimator=RandomForestRegressor(),\n",
       "             param_grid={'max_features': ['auto', 'sqrt'],\n",
       "                         'min_samples_leaf': [1, 3, 5, 10],\n",
       "                         'n_estimators': [10, 50, 100, 300, 500]},\n",
       "             verbose=True)"
      ]
     },
     "execution_count": 19,
     "metadata": {},
     "output_type": "execute_result"
    }
   ],
   "source": [
    "rfr = GridSearchCV(RandomForestRegressor(), param_grid = parameters, verbose=True, cv=5)\n",
    "rfr.fit(X_train, Y_train)"
   ]
  },
  {
   "cell_type": "code",
   "execution_count": 20,
   "metadata": {
    "id": "kCYVxdEzu1bF",
    "outputId": "e98f9f10-0abe-45af-dd03-119e2534b6b3"
   },
   "outputs": [
    {
     "data": {
      "text/plain": [
       "{'max_features': 'sqrt', 'min_samples_leaf': 1, 'n_estimators': 300}"
      ]
     },
     "execution_count": 20,
     "metadata": {},
     "output_type": "execute_result"
    }
   ],
   "source": [
    "rfr.best_params_"
   ]
  },
  {
   "cell_type": "code",
   "execution_count": 21,
   "metadata": {
    "id": "SAUdPqRMu1bH"
   },
   "outputs": [],
   "source": [
    "#results = results.append({\n",
    "#    'Modèle' : 'Random Forest',\n",
    "#    'RMSE' : rmse_estimator_rfr,\n",
    "#    }\n",
    "#    ,ignore_index=True)"
   ]
  },
  {
   "cell_type": "code",
   "execution_count": 22,
   "metadata": {
    "id": "xphj0ffru1bI",
    "outputId": "7ceaa66c-c4d7-4b15-e575-4d67b4ffe05a"
   },
   "outputs": [
    {
     "data": {
      "text/html": [
       "<div>\n",
       "<style scoped>\n",
       "    .dataframe tbody tr th:only-of-type {\n",
       "        vertical-align: middle;\n",
       "    }\n",
       "\n",
       "    .dataframe tbody tr th {\n",
       "        vertical-align: top;\n",
       "    }\n",
       "\n",
       "    .dataframe thead th {\n",
       "        text-align: right;\n",
       "    }\n",
       "</style>\n",
       "<table border=\"1\" class=\"dataframe\">\n",
       "  <thead>\n",
       "    <tr style=\"text-align: right;\">\n",
       "      <th></th>\n",
       "      <th>Modèle</th>\n",
       "      <th>RMSE</th>\n",
       "      <th>Inference_duration (microsecs)</th>\n",
       "    </tr>\n",
       "  </thead>\n",
       "  <tbody>\n",
       "  </tbody>\n",
       "</table>\n",
       "</div>"
      ],
      "text/plain": [
       "Empty DataFrame\n",
       "Columns: [Modèle, RMSE, Inference_duration (microsecs)]\n",
       "Index: []"
      ]
     },
     "execution_count": 22,
     "metadata": {},
     "output_type": "execute_result"
    }
   ],
   "source": [
    "results"
   ]
  },
  {
   "cell_type": "code",
   "execution_count": 23,
   "metadata": {
    "id": "Lbt4yBE8u1bO"
   },
   "outputs": [],
   "source": [
    "coefficients = abs(rfr.best_estimator_.feature_importances_)\n",
    "liste_coefs_rer = pd.concat((pd.DataFrame(X.columns, columns = ['Variables']), \n",
    "                      pd.DataFrame(coefficients, columns = ['Coefficients'])), axis = 1).sort_values(by='Coefficients', ascending = False)"
   ]
  },
  {
   "cell_type": "code",
   "execution_count": 24,
   "metadata": {
    "id": "WasAsF7Yu1bP",
    "outputId": "4f0b222f-db42-43f2-9516-43015d157eef"
   },
   "outputs": [
    {
     "data": {
      "image/png": "[encoded data removed]",
      "text/plain": [
       "<Figure size 576x576 with 1 Axes>"
      ]
     },
     "metadata": {
      "needs_background": "light"
     },
     "output_type": "display_data"
    }
   ],
   "source": [
    "plt.figure(figsize=(8,8))\n",
    "plt.title('Random Forest - Importance des 10 premières Features')\n",
    "sns.barplot(y = liste_coefs_rer['Variables'].head(10),\n",
    "            x = liste_coefs_rer['Coefficients'].head(10))\n",
    "plt.show()"
   ]
  },
  {
   "cell_type": "code",
   "execution_count": 25,
   "metadata": {
    "id": "ogCtcvsFu1bR"
   },
   "outputs": [],
   "source": [
    "y_pred = rfr.predict(X_test)"
   ]
  },
  {
   "cell_type": "code",
   "execution_count": 26,
   "metadata": {},
   "outputs": [
    {
     "data": {
      "text/plain": [
       "count      492.000000\n",
       "mean       245.338069\n",
       "std       1088.013970\n",
       "min          0.400000\n",
       "25%         23.265000\n",
       "50%         53.765000\n",
       "75%        163.350000\n",
       "max      16870.980000\n",
       "Name: TotalGHGEmissions, dtype: float64"
      ]
     },
     "execution_count": 26,
     "metadata": {},
     "output_type": "execute_result"
    }
   ],
   "source": [
    "Y_test.describe()"
   ]
  },
  {
   "cell_type": "code",
   "execution_count": 27,
   "metadata": {},
   "outputs": [],
   "source": [
    "verif = pd.DataFrame(data=Y_test)\n",
    "verif['y_pred'] = y_pred\n",
    "\n",
    "verif.columns = ['Y_test','y_pred']"
   ]
  },
  {
   "cell_type": "code",
   "execution_count": 28,
   "metadata": {},
   "outputs": [
    {
     "data": {
      "text/plain": [
       "count     492.000000\n",
       "mean      182.597735\n",
       "std       417.633304\n",
       "min         8.941867\n",
       "25%        46.695983\n",
       "50%        77.097567\n",
       "75%       182.396617\n",
       "max      5980.089633\n",
       "Name: y_pred, dtype: float64"
      ]
     },
     "execution_count": 28,
     "metadata": {},
     "output_type": "execute_result"
    }
   ],
   "source": [
    "verif.y_pred.describe()"
   ]
  },
  {
   "cell_type": "code",
   "execution_count": 29,
   "metadata": {
    "id": "wvNxfjv7u1bR",
    "outputId": "af8be0c8-ee06-4d7a-8959-d0b8a7946061"
   },
   "outputs": [
    {
     "name": "stdout",
     "output_type": "stream",
     "text": [
      "R²: 0.38677527496539454\n",
      "MAE: 158.52867730352307\n",
      "RMSE: 851.1429279984604\n"
     ]
    }
   ],
   "source": [
    "print(\"R²:\", r2_score(Y_test, y_pred))\n",
    "print(\"MAE:\", mean_absolute_error(Y_test, y_pred))\n",
    "#print(\"MSE:\", mean_squared_error(Y_test, y_pred))\n",
    "print(\"RMSE:\", mean_squared_error(Y_test, y_pred, squared=False))"
   ]
  },
  {
   "cell_type": "code",
   "execution_count": 30,
   "metadata": {
    "id": "QNBf2Bryu1bS",
    "outputId": "e6641cfa-db61-459c-afcc-89a64bcde2cb"
   },
   "outputs": [
    {
     "data": {
      "text/plain": [
       "1115      37.08\n",
       "483      357.39\n",
       "1089      13.70\n",
       "1546      37.83\n",
       "344       22.44\n",
       "         ...   \n",
       "1530      21.05\n",
       "1205     108.05\n",
       "251     1084.79\n",
       "899       11.97\n",
       "1349      14.21\n",
       "Name: TotalGHGEmissions, Length: 492, dtype: float64"
      ]
     },
     "execution_count": 30,
     "metadata": {},
     "output_type": "execute_result"
    }
   ],
   "source": [
    "Y_test"
   ]
  },
  {
   "cell_type": "code",
   "execution_count": 41,
   "metadata": {
    "id": "wlOmfEUHu1bT",
    "outputId": "a204c9e1-0740-4940-9309-cfe43c8cdbf8"
   },
   "outputs": [
    {
     "data": {
      "text/plain": [
       "RandomForestRegressor(max_features='sqrt', n_estimators=300)"
      ]
     },
     "execution_count": 41,
     "metadata": {},
     "output_type": "execute_result"
    }
   ],
   "source": [
    "best_rfr = RandomForestRegressor(max_features=\"sqrt\", min_samples_leaf=1, n_estimators = 300)\n",
    "best_rfr.fit(X_train, Y_train)"
   ]
  },
  {
   "cell_type": "code",
   "execution_count": 42,
   "metadata": {
    "id": "o_XPfYS8u1bU"
   },
   "outputs": [],
   "source": [
    "y_pred_best = best_rfr.predict(X_test)"
   ]
  },
  {
   "cell_type": "code",
   "execution_count": 43,
   "metadata": {
    "id": "Nscrztk9u1bW",
    "outputId": "9ffc9d72-4166-42e9-fe3b-9d206bf62487"
   },
   "outputs": [
    {
     "name": "stdout",
     "output_type": "stream",
     "text": [
      "R²: 0.39077767539194375\n",
      "MAE: 159.38607886178866\n",
      "RMSE: 848.3607573897466\n"
     ]
    }
   ],
   "source": [
    "print(\"R²:\", r2_score(Y_test, y_pred_best))\n",
    "print(\"MAE:\", mean_absolute_error(Y_test, y_pred_best))\n",
    "#print(\"MSE:\", mean_squared_error(Y_test, y_pred))\n",
    "print(\"RMSE:\", mean_squared_error(Y_test, y_pred_best, squared=False))"
   ]
  },
  {
   "cell_type": "raw",
   "metadata": {
    "id": "mqtH6rgsu1bX"
   },
   "source": [
    "import pickle\n",
    "rfr_model = 'rfr_model.pkl'\n",
    "pickle.dump(best_rfr, open(rfr_model, 'wb'))"
   ]
  },
  {
   "cell_type": "markdown",
   "metadata": {
    "id": "LL8jnP1tu1ba"
   },
   "source": [
    "## XGboostRegressor"
   ]
  },
  {
   "cell_type": "code",
   "execution_count": 44,
   "metadata": {
    "id": "YFjlwRxVu1bb"
   },
   "outputs": [],
   "source": [
    "from xgboost import XGBRegressor"
   ]
  },
  {
   "cell_type": "code",
   "execution_count": 45,
   "metadata": {
    "id": "lf2D4d87u1bc"
   },
   "outputs": [
    {
     "data": {
      "text/plain": [
       "GridSearchCV(cv=5,\n",
       "             estimator=XGBRegressor(base_score=None, booster=None,\n",
       "                                    colsample_bylevel=None,\n",
       "                                    colsample_bynode=None,\n",
       "                                    colsample_bytree=None,\n",
       "                                    enable_categorical=False, gamma=None,\n",
       "                                    gpu_id=None, importance_type=None,\n",
       "                                    interaction_constraints=None,\n",
       "                                    learning_rate=None, max_delta_step=None,\n",
       "                                    max_depth=None, min_child_weight=None,\n",
       "                                    missing=nan, monotone_constraints=None,\n",
       "                                    n_estimators=100, n_jobs=None,\n",
       "                                    num_parallel_tree=None, predictor=None,\n",
       "                                    random_state=None, reg_alpha=None,\n",
       "                                    reg_lambda=None, scale_pos_weight=None,\n",
       "                                    subsample=None, tree_method=None,\n",
       "                                    validate_parameters=None, verbosity=None),\n",
       "             param_grid={'n_estimators': [10, 20, 50, 100, 500, 1000, 2000]},\n",
       "             verbose=False)"
      ]
     },
     "execution_count": 45,
     "metadata": {},
     "output_type": "execute_result"
    }
   ],
   "source": [
    "parameters = {\n",
    "    'n_estimators' : [10,20,50,100,500,1000,2000]\n",
    "}\n",
    "xgb = GridSearchCV(XGBRegressor(),\n",
    "                        param_grid = parameters,\n",
    "                        cv = 5,\n",
    "                        verbose=False)\n",
    "xgb.fit(X_train, Y_train)"
   ]
  },
  {
   "cell_type": "code",
   "execution_count": 46,
   "metadata": {
    "id": "4TTe5dZ1u1bd",
    "outputId": "6a471584-1641-4568-c864-6e8430c3cc84"
   },
   "outputs": [
    {
     "data": {
      "text/plain": [
       "{'n_estimators': 10}"
      ]
     },
     "execution_count": 46,
     "metadata": {},
     "output_type": "execute_result"
    }
   ],
   "source": [
    "xgb.best_params_"
   ]
  },
  {
   "cell_type": "code",
   "execution_count": 47,
   "metadata": {
    "id": "QZgu1swXu1be"
   },
   "outputs": [
    {
     "data": {
      "text/plain": [
       "XGBRegressor(base_score=0.5, booster='gblinear', colsample_bylevel=None,\n",
       "             colsample_bynode=None, colsample_bytree=None,\n",
       "             enable_categorical=False, gamma=None, gpu_id=-1,\n",
       "             importance_type=None, interaction_constraints=None,\n",
       "             learning_rate=0.5, max_delta_step=None, max_depth=None,\n",
       "             min_child_weight=None, missing=nan, monotone_constraints=None,\n",
       "             n_estimators=10, n_jobs=4, num_parallel_tree=None, predictor=None,\n",
       "             random_state=0, reg_alpha=0, reg_lambda=0, scale_pos_weight=1,\n",
       "             subsample=None, tree_method=None, validate_parameters=1,\n",
       "             verbosity=None)"
      ]
     },
     "execution_count": 47,
     "metadata": {},
     "output_type": "execute_result"
    }
   ],
   "source": [
    "best_xgb = XGBRegressor(n_estimators = 10, booster=\"gblinear\")\n",
    "best_xgb.fit(X_train, Y_train)"
   ]
  },
  {
   "cell_type": "code",
   "execution_count": 50,
   "metadata": {
    "id": "mXnoPtcwu1bf",
    "outputId": "5fcca9b2-23d9-48c4-866f-1f95844d435c"
   },
   "outputs": [
    {
     "name": "stdout",
     "output_type": "stream",
     "text": [
      "R²: 0.48815689622437286\n",
      "MAE: 149.82680803213663\n",
      "RMSE: 777.6086707826812\n"
     ]
    }
   ],
   "source": [
    "xgb_pred = best_xgb.predict(X_test)\n",
    "\n",
    "print(\"R²:\", r2_score(Y_test, xgb_pred))\n",
    "print(\"MAE:\", mean_absolute_error(Y_test, xgb_pred))\n",
    "#print(\"MSE:\", mean_squared_error(Y_test, xgb_pred))\n",
    "print(\"RMSE:\", mean_squared_error(Y_test, xgb_pred, squared=False))"
   ]
  },
  {
   "cell_type": "code",
   "execution_count": 51,
   "metadata": {
    "id": "oVgpkP3pu1bg",
    "outputId": "feddd326-0af0-4f01-8d4a-e5bd2b70dd09"
   },
   "outputs": [
    {
     "data": {
      "text/plain": [
       "<property at 0x1d3ac3e4040>"
      ]
     },
     "execution_count": 51,
     "metadata": {},
     "output_type": "execute_result"
    }
   ],
   "source": [
    "XGBRegressor.feature_importances_"
   ]
  },
  {
   "cell_type": "markdown",
   "metadata": {
    "id": "TqhXRMVDu1bh"
   },
   "source": [
    "## SHAP values"
   ]
  },
  {
   "cell_type": "raw",
   "metadata": {
    "id": "qJRPKl7Vu1bi",
    "outputId": "6cedf40e-9328-47a6-f497-9905acf7a74a"
   },
   "source": [
    "row_to_show = 5\n",
    "data_for_prediction = X_test.iloc[row_to_show]  # use 1 row of data here. Could use multiple rows if desired\n",
    "data_for_prediction_array = data_for_prediction.values.reshape(1, -1)\n",
    "\n",
    "best_rfr.predict(data_for_prediction_array)"
   ]
  },
  {
   "cell_type": "raw",
   "metadata": {
    "id": "61PK_5Rxu1bj"
   },
   "source": [
    "import shap"
   ]
  },
  {
   "cell_type": "raw",
   "metadata": {
    "id": "oVPBRUjSu1bj"
   },
   "source": [
    "explainer = shap.TreeExplainer(best_rfr)\n",
    "# Calculate Shap values\n",
    "shap_values = explainer.shap_values(X_train)"
   ]
  },
  {
   "cell_type": "raw",
   "metadata": {
    "id": "GSd0zFs-u1bk"
   },
   "source": [
    "i = int(18)\n",
    "shap.force_plot(explainer.expected_value, shap_values[i], X_test[i], feature_names = features)"
   ]
  },
  {
   "cell_type": "raw",
   "metadata": {
    "id": "t1gbJjSru1bl",
    "outputId": "decc91f0-30eb-42ec-916b-e8ef392254ec"
   },
   "source": [
    "shap.initjs()\n",
    "shap.force_plot(explainer.expected_value[0], shap_values[1], data_for_prediction)"
   ]
  }
 ],
 "metadata": {
  "colab": {
   "collapsed_sections": [
    "LL8jnP1tu1ba",
    "TqhXRMVDu1bh"
   ],
   "provenance": []
  },
  "interpreter": {
   "hash": "1d63f421d0b44b8fbe361afa7f3185a3bd9135445dc52a58b64c3a5880331a42"
  },
  "kernelspec": {
   "display_name": "Python 3 (ipykernel)",
   "language": "python",
   "name": "python3"
  },
  "language_info": {
   "codemirror_mode": {
    "name": "ipython",
    "version": 3
   },
   "file_extension": ".py",
   "mimetype": "text/x-python",
   "name": "python",
   "nbconvert_exporter": "python",
   "pygments_lexer": "ipython3",
   "version": "3.9.7"
  }
 },
 "nbformat": 4,
 "nbformat_minor": 1
}
